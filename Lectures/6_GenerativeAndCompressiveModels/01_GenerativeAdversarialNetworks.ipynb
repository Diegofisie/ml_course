{
 "cells": [
  {
   "cell_type": "markdown",
   "metadata": {},
   "source": [
    "## Generative Adversarial Networks\n",
    "\n",
    "Another way to create non-parametric generative models is with GANs. GANs are the result of a competition between a network which tries to generate realistic data (generator) and a network which tries to get learn how to distinguish between fake data and real data from the sample (discriminator).\n",
    "\n",
    "<img src=\"https://lilianweng.github.io/lil-log/assets/images/GAN.png\">\n"
   ]
  },
  {
   "cell_type": "markdown",
   "metadata": {},
   "source": [
    "<img src=\"https://cdn.technologyreview.com/i/images/screen-shot-2018-12-14-at-10.13.53-am.png?sw=2544&cx=0&cy=0&cw=594&ch=262\">\n",
    "\n",
    "https://www.technologyreview.com/s/612612/these-incredibly-real-fake-faces-show-how-algorithms-can-now-mess-with-us/"
   ]
  },
  {
   "cell_type": "code",
   "execution_count": null,
   "metadata": {},
   "outputs": [],
   "source": []
  }
 ],
 "metadata": {
  "kernelspec": {
   "display_name": "Python 3",
   "language": "python",
   "name": "python3"
  },
  "language_info": {
   "codemirror_mode": {
    "name": "ipython",
    "version": 3
   },
   "file_extension": ".py",
   "mimetype": "text/x-python",
   "name": "python",
   "nbconvert_exporter": "python",
   "pygments_lexer": "ipython3",
   "version": "3.6.8"
  }
 },
 "nbformat": 4,
 "nbformat_minor": 2
}

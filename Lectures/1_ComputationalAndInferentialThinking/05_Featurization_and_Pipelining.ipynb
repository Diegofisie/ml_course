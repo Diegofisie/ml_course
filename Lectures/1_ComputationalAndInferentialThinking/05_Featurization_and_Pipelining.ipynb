{
 "cells": [
  {
   "cell_type": "markdown",
   "metadata": {},
   "source": [
    "ML Course, Bogotá, Colombia  (&copy; Josh Bloom; June 2019)"
   ]
  },
  {
   "cell_type": "code",
   "execution_count": 1,
   "metadata": {},
   "outputs": [
    {
     "data": {
      "text/html": [
       "<style>\n",
       "\n",
       ".rendered_html\n",
       "{\n",
       "  color: #2C5494;\n",
       "  font-family: Ubuntu;\n",
       "  font-size: 140%;\n",
       "  line-height: 1.1;\n",
       "  margin: 0.5em 0;\n",
       "  }\n",
       "\n",
       ".talk_title\n",
       "{\n",
       "  color: #498AF3;\n",
       "  font-size: 250%;\n",
       "  font-weight:bold;\n",
       "  line-height: 1.2; \n",
       "  margin: 10px 50px 10px;\n",
       "  }\n",
       "\n",
       ".subtitle\n",
       "{\n",
       "  color: #386BBC;\n",
       "  font-size: 180%;\n",
       "  font-weight:bold;\n",
       "  line-height: 1.2; \n",
       "  margin: 20px 50px 20px;\n",
       "  }\n",
       "\n",
       ".slide-header, p.slide-header\n",
       "{\n",
       "  color: #498AF3;\n",
       "  font-size: 200%;\n",
       "  font-weight:bold;\n",
       "  margin: 0px 20px 10px;\n",
       "  page-break-before: always;\n",
       "  text-align: center;\n",
       "  }\n",
       "\n",
       ".rendered_html h1\n",
       "{\n",
       "  color: #498AF3;\n",
       "  line-height: 1.2; \n",
       "  margin: 0.15em 0em 0.5em;\n",
       "  page-break-before: always;\n",
       "  text-align: center;\n",
       "  }\n",
       "\n",
       "\n",
       ".rendered_html h2\n",
       "{ \n",
       "  color: #386BBC;\n",
       "  line-height: 1.2;\n",
       "  margin: 1.1em 0em 0.5em;\n",
       "  }\n",
       "\n",
       ".rendered_html h3\n",
       "{ \n",
       "  font-size: 100%;\n",
       "  line-height: 1.2;\n",
       "  margin: 1.1em 0em 0.5em;\n",
       "  }\n",
       "\n",
       ".rendered_html li\n",
       "{\n",
       "  line-height: 1.8;\n",
       "  }\n",
       "\n",
       ".input_prompt, .CodeMirror-lines, .output_area\n",
       "{\n",
       "  font-family: Consolas;\n",
       "  font-size: 120%;\n",
       "  }\n",
       "\n",
       ".gap-above\n",
       "{\n",
       "  padding-top: 200px;\n",
       "  }\n",
       "\n",
       ".gap01\n",
       "{\n",
       "  padding-top: 10px;\n",
       "  }\n",
       "\n",
       ".gap05\n",
       "{\n",
       "  padding-top: 50px;\n",
       "  }\n",
       "\n",
       ".gap1\n",
       "{\n",
       "  padding-top: 100px;\n",
       "  }\n",
       "\n",
       ".gap2\n",
       "{\n",
       "  padding-top: 200px;\n",
       "  }\n",
       "\n",
       ".gap3\n",
       "{\n",
       "  padding-top: 300px;\n",
       "  }\n",
       "\n",
       ".emph\n",
       "{\n",
       "  color: #386BBC;\n",
       "  }\n",
       "\n",
       ".warn\n",
       "{\n",
       "  color: red;\n",
       "  }\n",
       "\n",
       ".center\n",
       "{\n",
       "  text-align: center;\n",
       "  }\n",
       "\n",
       ".nb_link\n",
       "{\n",
       "    padding-bottom: 0.5em;\n",
       "}\n",
       "\n",
       "</style>"
      ],
      "text/plain": [
       "<IPython.core.display.HTML object>"
      ]
     },
     "metadata": {},
     "output_type": "display_data"
    }
   ],
   "source": [
    "%run ../talktools.py"
   ]
  },
  {
   "cell_type": "markdown",
   "metadata": {},
   "source": [
    "# Featurization and Pipelining"
   ]
  },
  {
   "cell_type": "markdown",
   "metadata": {},
   "source": [
    "<img src=\"imgs/workflow.png\">\n",
    "Source: [V. Singh](https://www.slideshare.net/hortonworks/data-science-workshop)"
   ]
  },
  {
   "cell_type": "markdown",
   "metadata": {},
   "source": [
    "<img src=\"imgs/feature.png\">\n",
    "Source: Lightsidelabs"
   ]
  },
  {
   "cell_type": "markdown",
   "metadata": {},
   "source": [
    "<img src=\"imgs/feature2.png\">"
   ]
  },
  {
   "cell_type": "markdown",
   "metadata": {},
   "source": [
    "# Featurization Examples\n"
   ]
  },
  {
   "cell_type": "markdown",
   "metadata": {},
   "source": [
    "# Categorical & Missing Features\n",
    "\n",
    "\n",
    "Often times, we might be presented with features that look like:\n",
    "\n",
    "| eye color | height | country of origin | gender |\n",
    "| ------------| ---------| ---------------------| ------- |\n",
    "|  brown    |  1.85    |  Colombia           |     M    |\n",
    "|  brown    |  1.25    |  USA                   |            |\n",
    "|  blonde   |  1.45    |  Mexico               |     F     |\n",
    "|  red         |  2.01    |  Mexico               |     F     |\n",
    "|                |             |  Chile                   |     F     |\n",
    "|  Brown   |  1.02    |  Colombia           |             |  \n",
    "\n",
    "What do you notice in this dataset? \n",
    "\n",
    "Since many ML learn algorithms require, as we'll see, a full matrix of numerical input features, there's often times a lot of preprocessing work that is needed before we can learn."
   ]
  },
  {
   "cell_type": "code",
   "execution_count": 66,
   "metadata": {},
   "outputs": [
    {
     "data": {
      "text/html": [
       "<div>\n",
       "<style scoped>\n",
       "    .dataframe tbody tr th:only-of-type {\n",
       "        vertical-align: middle;\n",
       "    }\n",
       "\n",
       "    .dataframe tbody tr th {\n",
       "        vertical-align: top;\n",
       "    }\n",
       "\n",
       "    .dataframe thead th {\n",
       "        text-align: right;\n",
       "    }\n",
       "</style>\n",
       "<table border=\"1\" class=\"dataframe\">\n",
       "  <thead>\n",
       "    <tr style=\"text-align: right;\">\n",
       "      <th></th>\n",
       "      <th>country of origin</th>\n",
       "      <th>eye color</th>\n",
       "      <th>gender</th>\n",
       "      <th>height</th>\n",
       "    </tr>\n",
       "  </thead>\n",
       "  <tbody>\n",
       "    <tr>\n",
       "      <th>0</th>\n",
       "      <td>Colombia</td>\n",
       "      <td>brown</td>\n",
       "      <td>M</td>\n",
       "      <td>1.85</td>\n",
       "    </tr>\n",
       "    <tr>\n",
       "      <th>1</th>\n",
       "      <td>USA</td>\n",
       "      <td>brown</td>\n",
       "      <td>None</td>\n",
       "      <td>1.25</td>\n",
       "    </tr>\n",
       "    <tr>\n",
       "      <th>2</th>\n",
       "      <td>Mexico</td>\n",
       "      <td>blonde</td>\n",
       "      <td>F</td>\n",
       "      <td>1.45</td>\n",
       "    </tr>\n",
       "    <tr>\n",
       "      <th>3</th>\n",
       "      <td>Mexico</td>\n",
       "      <td>red</td>\n",
       "      <td>F</td>\n",
       "      <td>2.01</td>\n",
       "    </tr>\n",
       "    <tr>\n",
       "      <th>4</th>\n",
       "      <td>Chile</td>\n",
       "      <td>None</td>\n",
       "      <td>F</td>\n",
       "      <td>NaN</td>\n",
       "    </tr>\n",
       "    <tr>\n",
       "      <th>5</th>\n",
       "      <td>Colombia</td>\n",
       "      <td>Brown</td>\n",
       "      <td>None</td>\n",
       "      <td>1.02</td>\n",
       "    </tr>\n",
       "  </tbody>\n",
       "</table>\n",
       "</div>"
      ],
      "text/plain": [
       "  country of origin eye color gender  height\n",
       "0          Colombia     brown      M    1.85\n",
       "1               USA     brown   None    1.25\n",
       "2            Mexico    blonde      F    1.45\n",
       "3            Mexico       red      F    2.01\n",
       "4             Chile      None      F     NaN\n",
       "5          Colombia     Brown   None    1.02"
      ]
     },
     "execution_count": 66,
     "metadata": {},
     "output_type": "execute_result"
    }
   ],
   "source": [
    "import pandas as pd\n",
    "df = pd.DataFrame({\"eye color\": [\"brown\", \"brown\", \"blonde\", \"red\", None, \"Brown\"],\n",
    "  \"height\": [1.85, 1.25, 1.45, 2.01, None, 1.02],\n",
    "  \"country of origin\": [\"Colombia\", \"USA\", \"Mexico\", \"Mexico\", \"Chile\", \"Colombia\"],\n",
    "  \"gender\": [\"M\", None, \"F\", \"F\",\"F\", None]})\n",
    "df"
   ]
  },
  {
   "cell_type": "markdown",
   "metadata": {},
   "source": [
    "Let's first normalize the data so it's all lower case. This will handle the \"Brown\" and \"brown\" issue."
   ]
  },
  {
   "cell_type": "code",
   "execution_count": 68,
   "metadata": {},
   "outputs": [
    {
     "data": {
      "text/html": [
       "<div>\n",
       "<style scoped>\n",
       "    .dataframe tbody tr th:only-of-type {\n",
       "        vertical-align: middle;\n",
       "    }\n",
       "\n",
       "    .dataframe tbody tr th {\n",
       "        vertical-align: top;\n",
       "    }\n",
       "\n",
       "    .dataframe thead th {\n",
       "        text-align: right;\n",
       "    }\n",
       "</style>\n",
       "<table border=\"1\" class=\"dataframe\">\n",
       "  <thead>\n",
       "    <tr style=\"text-align: right;\">\n",
       "      <th></th>\n",
       "      <th>country of origin</th>\n",
       "      <th>eye color</th>\n",
       "      <th>gender</th>\n",
       "      <th>height</th>\n",
       "    </tr>\n",
       "  </thead>\n",
       "  <tbody>\n",
       "    <tr>\n",
       "      <th>0</th>\n",
       "      <td>Colombia</td>\n",
       "      <td>brown</td>\n",
       "      <td>M</td>\n",
       "      <td>1.85</td>\n",
       "    </tr>\n",
       "    <tr>\n",
       "      <th>1</th>\n",
       "      <td>USA</td>\n",
       "      <td>brown</td>\n",
       "      <td>None</td>\n",
       "      <td>1.25</td>\n",
       "    </tr>\n",
       "    <tr>\n",
       "      <th>2</th>\n",
       "      <td>Mexico</td>\n",
       "      <td>blonde</td>\n",
       "      <td>F</td>\n",
       "      <td>1.45</td>\n",
       "    </tr>\n",
       "    <tr>\n",
       "      <th>3</th>\n",
       "      <td>Mexico</td>\n",
       "      <td>red</td>\n",
       "      <td>F</td>\n",
       "      <td>2.01</td>\n",
       "    </tr>\n",
       "    <tr>\n",
       "      <th>4</th>\n",
       "      <td>Chile</td>\n",
       "      <td>None</td>\n",
       "      <td>F</td>\n",
       "      <td>NaN</td>\n",
       "    </tr>\n",
       "    <tr>\n",
       "      <th>5</th>\n",
       "      <td>Colombia</td>\n",
       "      <td>brown</td>\n",
       "      <td>None</td>\n",
       "      <td>1.02</td>\n",
       "    </tr>\n",
       "  </tbody>\n",
       "</table>\n",
       "</div>"
      ],
      "text/plain": [
       "  country of origin eye color gender  height\n",
       "0          Colombia     brown      M    1.85\n",
       "1               USA     brown   None    1.25\n",
       "2            Mexico    blonde      F    1.45\n",
       "3            Mexico       red      F    2.01\n",
       "4             Chile      None      F     NaN\n",
       "5          Colombia     brown   None    1.02"
      ]
     },
     "execution_count": 68,
     "metadata": {},
     "output_type": "execute_result"
    }
   ],
   "source": [
    "df_new = df.copy()\n",
    "df_new[\"eye color\"] = df_new[\"eye color\"].str.lower()\n",
    "df_new"
   ]
  },
  {
   "cell_type": "markdown",
   "metadata": {},
   "source": [
    "Let's next handle the NaN in the height. What should we use here?"
   ]
  },
  {
   "cell_type": "code",
   "execution_count": 72,
   "metadata": {},
   "outputs": [
    {
     "data": {
      "text/plain": [
       "1.516"
      ]
     },
     "execution_count": 72,
     "metadata": {},
     "output_type": "execute_result"
    }
   ],
   "source": [
    "# mean of everyone?\n",
    "np.nanmean(df_new[\"height\"].values)"
   ]
  },
  {
   "cell_type": "code",
   "execution_count": 76,
   "metadata": {},
   "outputs": [
    {
     "data": {
      "text/plain": [
       "1.73"
      ]
     },
     "execution_count": 76,
     "metadata": {},
     "output_type": "execute_result"
    }
   ],
   "source": [
    "# mean of just females?\n",
    "np.nanmean(df_new[df_new[\"gender\"] == 'F'][\"height\"]) "
   ]
  },
  {
   "cell_type": "code",
   "execution_count": 87,
   "metadata": {},
   "outputs": [
    {
     "data": {
      "text/html": [
       "<div>\n",
       "<style scoped>\n",
       "    .dataframe tbody tr th:only-of-type {\n",
       "        vertical-align: middle;\n",
       "    }\n",
       "\n",
       "    .dataframe tbody tr th {\n",
       "        vertical-align: top;\n",
       "    }\n",
       "\n",
       "    .dataframe thead th {\n",
       "        text-align: right;\n",
       "    }\n",
       "</style>\n",
       "<table border=\"1\" class=\"dataframe\">\n",
       "  <thead>\n",
       "    <tr style=\"text-align: right;\">\n",
       "      <th></th>\n",
       "      <th>country of origin</th>\n",
       "      <th>eye color</th>\n",
       "      <th>gender</th>\n",
       "      <th>height</th>\n",
       "    </tr>\n",
       "  </thead>\n",
       "  <tbody>\n",
       "    <tr>\n",
       "      <th>0</th>\n",
       "      <td>Colombia</td>\n",
       "      <td>brown</td>\n",
       "      <td>M</td>\n",
       "      <td>1.85</td>\n",
       "    </tr>\n",
       "    <tr>\n",
       "      <th>1</th>\n",
       "      <td>USA</td>\n",
       "      <td>brown</td>\n",
       "      <td>None</td>\n",
       "      <td>1.25</td>\n",
       "    </tr>\n",
       "    <tr>\n",
       "      <th>2</th>\n",
       "      <td>Mexico</td>\n",
       "      <td>blonde</td>\n",
       "      <td>F</td>\n",
       "      <td>1.45</td>\n",
       "    </tr>\n",
       "    <tr>\n",
       "      <th>3</th>\n",
       "      <td>Mexico</td>\n",
       "      <td>red</td>\n",
       "      <td>F</td>\n",
       "      <td>2.01</td>\n",
       "    </tr>\n",
       "    <tr>\n",
       "      <th>4</th>\n",
       "      <td>Chile</td>\n",
       "      <td>None</td>\n",
       "      <td>F</td>\n",
       "      <td>1.73</td>\n",
       "    </tr>\n",
       "    <tr>\n",
       "      <th>5</th>\n",
       "      <td>Colombia</td>\n",
       "      <td>brown</td>\n",
       "      <td>None</td>\n",
       "      <td>1.02</td>\n",
       "    </tr>\n",
       "  </tbody>\n",
       "</table>\n",
       "</div>"
      ],
      "text/plain": [
       "  country of origin eye color gender  height\n",
       "0          Colombia     brown      M    1.85\n",
       "1               USA     brown   None    1.25\n",
       "2            Mexico    blonde      F    1.45\n",
       "3            Mexico       red      F    2.01\n",
       "4             Chile      None      F    1.73\n",
       "5          Colombia     brown   None    1.02"
      ]
     },
     "execution_count": 87,
     "metadata": {},
     "output_type": "execute_result"
    }
   ],
   "source": [
    "df_new1 = df_new.copy()\n",
    "df_new1.at[4, \"height\"] = np.nanmean(df_new[df_new[\"gender\"] == 'F'][\"height\"]) \n",
    "df_new1"
   ]
  },
  {
   "cell_type": "markdown",
   "metadata": {},
   "source": [
    "Let's next handle the eye color. What should we use?"
   ]
  },
  {
   "cell_type": "code",
   "execution_count": 91,
   "metadata": {},
   "outputs": [
    {
     "data": {
      "text/plain": [
       "0    brown\n",
       "dtype: object"
      ]
     },
     "execution_count": 91,
     "metadata": {},
     "output_type": "execute_result"
    }
   ],
   "source": [
    "df_new1[\"eye color\"].mode()"
   ]
  },
  {
   "cell_type": "code",
   "execution_count": 92,
   "metadata": {},
   "outputs": [
    {
     "data": {
      "text/html": [
       "<div>\n",
       "<style scoped>\n",
       "    .dataframe tbody tr th:only-of-type {\n",
       "        vertical-align: middle;\n",
       "    }\n",
       "\n",
       "    .dataframe tbody tr th {\n",
       "        vertical-align: top;\n",
       "    }\n",
       "\n",
       "    .dataframe thead th {\n",
       "        text-align: right;\n",
       "    }\n",
       "</style>\n",
       "<table border=\"1\" class=\"dataframe\">\n",
       "  <thead>\n",
       "    <tr style=\"text-align: right;\">\n",
       "      <th></th>\n",
       "      <th>country of origin</th>\n",
       "      <th>eye color</th>\n",
       "      <th>gender</th>\n",
       "      <th>height</th>\n",
       "    </tr>\n",
       "  </thead>\n",
       "  <tbody>\n",
       "    <tr>\n",
       "      <th>0</th>\n",
       "      <td>Colombia</td>\n",
       "      <td>brown</td>\n",
       "      <td>M</td>\n",
       "      <td>1.85</td>\n",
       "    </tr>\n",
       "    <tr>\n",
       "      <th>1</th>\n",
       "      <td>USA</td>\n",
       "      <td>brown</td>\n",
       "      <td>None</td>\n",
       "      <td>1.25</td>\n",
       "    </tr>\n",
       "    <tr>\n",
       "      <th>2</th>\n",
       "      <td>Mexico</td>\n",
       "      <td>blonde</td>\n",
       "      <td>F</td>\n",
       "      <td>1.45</td>\n",
       "    </tr>\n",
       "    <tr>\n",
       "      <th>3</th>\n",
       "      <td>Mexico</td>\n",
       "      <td>red</td>\n",
       "      <td>F</td>\n",
       "      <td>2.01</td>\n",
       "    </tr>\n",
       "    <tr>\n",
       "      <th>4</th>\n",
       "      <td>Chile</td>\n",
       "      <td>brown</td>\n",
       "      <td>F</td>\n",
       "      <td>1.73</td>\n",
       "    </tr>\n",
       "    <tr>\n",
       "      <th>5</th>\n",
       "      <td>Colombia</td>\n",
       "      <td>brown</td>\n",
       "      <td>None</td>\n",
       "      <td>1.02</td>\n",
       "    </tr>\n",
       "  </tbody>\n",
       "</table>\n",
       "</div>"
      ],
      "text/plain": [
       "  country of origin eye color gender  height\n",
       "0          Colombia     brown      M    1.85\n",
       "1               USA     brown   None    1.25\n",
       "2            Mexico    blonde      F    1.45\n",
       "3            Mexico       red      F    2.01\n",
       "4             Chile     brown      F    1.73\n",
       "5          Colombia     brown   None    1.02"
      ]
     },
     "execution_count": 92,
     "metadata": {},
     "output_type": "execute_result"
    }
   ],
   "source": [
    "df_new2 = df_new1.copy()\n",
    "df_new2.at[4, \"eye color\"] = df_new1[\"eye color\"].mode().values[0]\n",
    "df_new2"
   ]
  },
  {
   "cell_type": "markdown",
   "metadata": {},
   "source": [
    "How should we handle the missing gender entries?"
   ]
  },
  {
   "cell_type": "code",
   "execution_count": 99,
   "metadata": {},
   "outputs": [
    {
     "data": {
      "text/html": [
       "<div>\n",
       "<style scoped>\n",
       "    .dataframe tbody tr th:only-of-type {\n",
       "        vertical-align: middle;\n",
       "    }\n",
       "\n",
       "    .dataframe tbody tr th {\n",
       "        vertical-align: top;\n",
       "    }\n",
       "\n",
       "    .dataframe thead th {\n",
       "        text-align: right;\n",
       "    }\n",
       "</style>\n",
       "<table border=\"1\" class=\"dataframe\">\n",
       "  <thead>\n",
       "    <tr style=\"text-align: right;\">\n",
       "      <th></th>\n",
       "      <th>country of origin</th>\n",
       "      <th>eye color</th>\n",
       "      <th>gender</th>\n",
       "      <th>height</th>\n",
       "    </tr>\n",
       "  </thead>\n",
       "  <tbody>\n",
       "    <tr>\n",
       "      <th>0</th>\n",
       "      <td>Colombia</td>\n",
       "      <td>brown</td>\n",
       "      <td>M</td>\n",
       "      <td>1.85</td>\n",
       "    </tr>\n",
       "    <tr>\n",
       "      <th>1</th>\n",
       "      <td>USA</td>\n",
       "      <td>brown</td>\n",
       "      <td>N/A</td>\n",
       "      <td>1.25</td>\n",
       "    </tr>\n",
       "    <tr>\n",
       "      <th>2</th>\n",
       "      <td>Mexico</td>\n",
       "      <td>blonde</td>\n",
       "      <td>F</td>\n",
       "      <td>1.45</td>\n",
       "    </tr>\n",
       "    <tr>\n",
       "      <th>3</th>\n",
       "      <td>Mexico</td>\n",
       "      <td>red</td>\n",
       "      <td>F</td>\n",
       "      <td>2.01</td>\n",
       "    </tr>\n",
       "    <tr>\n",
       "      <th>4</th>\n",
       "      <td>Chile</td>\n",
       "      <td>brown</td>\n",
       "      <td>F</td>\n",
       "      <td>1.73</td>\n",
       "    </tr>\n",
       "    <tr>\n",
       "      <th>5</th>\n",
       "      <td>Colombia</td>\n",
       "      <td>brown</td>\n",
       "      <td>N/A</td>\n",
       "      <td>1.02</td>\n",
       "    </tr>\n",
       "  </tbody>\n",
       "</table>\n",
       "</div>"
      ],
      "text/plain": [
       "  country of origin eye color gender  height\n",
       "0          Colombia     brown      M    1.85\n",
       "1               USA     brown    N/A    1.25\n",
       "2            Mexico    blonde      F    1.45\n",
       "3            Mexico       red      F    2.01\n",
       "4             Chile     brown      F    1.73\n",
       "5          Colombia     brown    N/A    1.02"
      ]
     },
     "execution_count": 99,
     "metadata": {},
     "output_type": "execute_result"
    }
   ],
   "source": [
    "df_new3 = df_new2.fillna(\"N/A\")\n",
    "df_new3"
   ]
  },
  {
   "cell_type": "markdown",
   "metadata": {},
   "source": [
    "We're done, right? No. We fixed the dirty, missing data problem but we still dont have a numerical feature matrix.\n",
    "\n",
    "We could do a mapping such that \"Colombia\" -> 1, \"USA\" -> 2, ... etc. but then that would imply an ordering between what is fundamentally categories (without ordering). Instead we want to do `one-hot encoding`, where every unique value gets its own column. `pandas` as a method on DataFrames called `get_dummies` which does this for us."
   ]
  },
  {
   "cell_type": "code",
   "execution_count": 124,
   "metadata": {},
   "outputs": [
    {
     "data": {
      "text/html": [
       "<div>\n",
       "<style scoped>\n",
       "    .dataframe tbody tr th:only-of-type {\n",
       "        vertical-align: middle;\n",
       "    }\n",
       "\n",
       "    .dataframe tbody tr th {\n",
       "        vertical-align: top;\n",
       "    }\n",
       "\n",
       "    .dataframe thead th {\n",
       "        text-align: right;\n",
       "    }\n",
       "</style>\n",
       "<table border=\"1\" class=\"dataframe\">\n",
       "  <thead>\n",
       "    <tr style=\"text-align: right;\">\n",
       "      <th></th>\n",
       "      <th>height</th>\n",
       "      <th>country of origin_Chile</th>\n",
       "      <th>country of origin_Colombia</th>\n",
       "      <th>country of origin_Mexico</th>\n",
       "      <th>country of origin_USA</th>\n",
       "      <th>eye color_blonde</th>\n",
       "      <th>eye color_brown</th>\n",
       "      <th>eye color_red</th>\n",
       "      <th>gender_F</th>\n",
       "      <th>gender_M</th>\n",
       "      <th>gender_N/A</th>\n",
       "    </tr>\n",
       "  </thead>\n",
       "  <tbody>\n",
       "    <tr>\n",
       "      <th>0</th>\n",
       "      <td>1.85</td>\n",
       "      <td>0</td>\n",
       "      <td>1</td>\n",
       "      <td>0</td>\n",
       "      <td>0</td>\n",
       "      <td>0</td>\n",
       "      <td>1</td>\n",
       "      <td>0</td>\n",
       "      <td>0</td>\n",
       "      <td>1</td>\n",
       "      <td>0</td>\n",
       "    </tr>\n",
       "    <tr>\n",
       "      <th>1</th>\n",
       "      <td>1.25</td>\n",
       "      <td>0</td>\n",
       "      <td>0</td>\n",
       "      <td>0</td>\n",
       "      <td>1</td>\n",
       "      <td>0</td>\n",
       "      <td>1</td>\n",
       "      <td>0</td>\n",
       "      <td>0</td>\n",
       "      <td>0</td>\n",
       "      <td>1</td>\n",
       "    </tr>\n",
       "    <tr>\n",
       "      <th>2</th>\n",
       "      <td>1.45</td>\n",
       "      <td>0</td>\n",
       "      <td>0</td>\n",
       "      <td>1</td>\n",
       "      <td>0</td>\n",
       "      <td>1</td>\n",
       "      <td>0</td>\n",
       "      <td>0</td>\n",
       "      <td>1</td>\n",
       "      <td>0</td>\n",
       "      <td>0</td>\n",
       "    </tr>\n",
       "    <tr>\n",
       "      <th>3</th>\n",
       "      <td>2.01</td>\n",
       "      <td>0</td>\n",
       "      <td>0</td>\n",
       "      <td>1</td>\n",
       "      <td>0</td>\n",
       "      <td>0</td>\n",
       "      <td>0</td>\n",
       "      <td>1</td>\n",
       "      <td>1</td>\n",
       "      <td>0</td>\n",
       "      <td>0</td>\n",
       "    </tr>\n",
       "    <tr>\n",
       "      <th>4</th>\n",
       "      <td>1.73</td>\n",
       "      <td>1</td>\n",
       "      <td>0</td>\n",
       "      <td>0</td>\n",
       "      <td>0</td>\n",
       "      <td>0</td>\n",
       "      <td>1</td>\n",
       "      <td>0</td>\n",
       "      <td>1</td>\n",
       "      <td>0</td>\n",
       "      <td>0</td>\n",
       "    </tr>\n",
       "    <tr>\n",
       "      <th>5</th>\n",
       "      <td>1.02</td>\n",
       "      <td>0</td>\n",
       "      <td>1</td>\n",
       "      <td>0</td>\n",
       "      <td>0</td>\n",
       "      <td>0</td>\n",
       "      <td>1</td>\n",
       "      <td>0</td>\n",
       "      <td>0</td>\n",
       "      <td>0</td>\n",
       "      <td>1</td>\n",
       "    </tr>\n",
       "  </tbody>\n",
       "</table>\n",
       "</div>"
      ],
      "text/plain": [
       "   height  country of origin_Chile  country of origin_Colombia  \\\n",
       "0    1.85                        0                           1   \n",
       "1    1.25                        0                           0   \n",
       "2    1.45                        0                           0   \n",
       "3    2.01                        0                           0   \n",
       "4    1.73                        1                           0   \n",
       "5    1.02                        0                           1   \n",
       "\n",
       "   country of origin_Mexico  country of origin_USA  eye color_blonde  \\\n",
       "0                         0                      0                 0   \n",
       "1                         0                      1                 0   \n",
       "2                         1                      0                 1   \n",
       "3                         1                      0                 0   \n",
       "4                         0                      0                 0   \n",
       "5                         0                      0                 0   \n",
       "\n",
       "   eye color_brown  eye color_red  gender_F  gender_M  gender_N/A  \n",
       "0                1              0         0         1           0  \n",
       "1                1              0         0         0           1  \n",
       "2                0              0         1         0           0  \n",
       "3                0              1         1         0           0  \n",
       "4                1              0         1         0           0  \n",
       "5                1              0         0         0           1  "
      ]
     },
     "execution_count": 124,
     "metadata": {},
     "output_type": "execute_result"
    }
   ],
   "source": [
    "pd.get_dummies(df_new3, prefix=['country of origin', 'eye color', 'gender'])"
   ]
  },
  {
   "cell_type": "markdown",
   "metadata": {},
   "source": [
    "Note: depending on the learning algorithm you use, you may want to do `drop_first=True` in `get_dummies`."
   ]
  },
  {
   "cell_type": "markdown",
   "metadata": {},
   "source": [
    "Of course there are helpful tools that exist for us to deal with dirty, missing data."
   ]
  },
  {
   "cell_type": "code",
   "execution_count": 119,
   "metadata": {},
   "outputs": [],
   "source": [
    "%run transform"
   ]
  },
  {
   "cell_type": "code",
   "execution_count": 126,
   "metadata": {},
   "outputs": [
    {
     "data": {
      "text/html": [
       "<div>\n",
       "<style scoped>\n",
       "    .dataframe tbody tr th:only-of-type {\n",
       "        vertical-align: middle;\n",
       "    }\n",
       "\n",
       "    .dataframe tbody tr th {\n",
       "        vertical-align: top;\n",
       "    }\n",
       "\n",
       "    .dataframe thead th {\n",
       "        text-align: right;\n",
       "    }\n",
       "</style>\n",
       "<table border=\"1\" class=\"dataframe\">\n",
       "  <thead>\n",
       "    <tr style=\"text-align: right;\">\n",
       "      <th></th>\n",
       "      <th>height</th>\n",
       "      <th>country of origin_Mexico</th>\n",
       "      <th>country of origin_Colombia</th>\n",
       "      <th>country of origin_Chile</th>\n",
       "      <th>country of origin_USA</th>\n",
       "      <th>eye color_brown</th>\n",
       "      <th>eye color_red</th>\n",
       "      <th>eye color_blonde</th>\n",
       "      <th>gender_F</th>\n",
       "      <th>gender_M</th>\n",
       "    </tr>\n",
       "  </thead>\n",
       "  <tbody>\n",
       "    <tr>\n",
       "      <th>0</th>\n",
       "      <td>0.935272</td>\n",
       "      <td>0.0</td>\n",
       "      <td>1.0</td>\n",
       "      <td>0.0</td>\n",
       "      <td>0.0</td>\n",
       "      <td>1.0</td>\n",
       "      <td>0.0</td>\n",
       "      <td>0.0</td>\n",
       "      <td>0.0</td>\n",
       "      <td>1.0</td>\n",
       "    </tr>\n",
       "    <tr>\n",
       "      <th>1</th>\n",
       "      <td>-0.691288</td>\n",
       "      <td>0.0</td>\n",
       "      <td>0.0</td>\n",
       "      <td>0.0</td>\n",
       "      <td>1.0</td>\n",
       "      <td>1.0</td>\n",
       "      <td>0.0</td>\n",
       "      <td>0.0</td>\n",
       "      <td>0.0</td>\n",
       "      <td>0.0</td>\n",
       "    </tr>\n",
       "    <tr>\n",
       "      <th>2</th>\n",
       "      <td>-0.149101</td>\n",
       "      <td>1.0</td>\n",
       "      <td>0.0</td>\n",
       "      <td>0.0</td>\n",
       "      <td>0.0</td>\n",
       "      <td>0.0</td>\n",
       "      <td>0.0</td>\n",
       "      <td>1.0</td>\n",
       "      <td>1.0</td>\n",
       "      <td>0.0</td>\n",
       "    </tr>\n",
       "    <tr>\n",
       "      <th>3</th>\n",
       "      <td>1.369021</td>\n",
       "      <td>1.0</td>\n",
       "      <td>0.0</td>\n",
       "      <td>0.0</td>\n",
       "      <td>0.0</td>\n",
       "      <td>0.0</td>\n",
       "      <td>1.0</td>\n",
       "      <td>0.0</td>\n",
       "      <td>1.0</td>\n",
       "      <td>0.0</td>\n",
       "    </tr>\n",
       "    <tr>\n",
       "      <th>4</th>\n",
       "      <td>-0.149101</td>\n",
       "      <td>0.0</td>\n",
       "      <td>0.0</td>\n",
       "      <td>1.0</td>\n",
       "      <td>0.0</td>\n",
       "      <td>0.0</td>\n",
       "      <td>0.0</td>\n",
       "      <td>0.0</td>\n",
       "      <td>1.0</td>\n",
       "      <td>0.0</td>\n",
       "    </tr>\n",
       "    <tr>\n",
       "      <th>5</th>\n",
       "      <td>-1.314803</td>\n",
       "      <td>0.0</td>\n",
       "      <td>1.0</td>\n",
       "      <td>0.0</td>\n",
       "      <td>0.0</td>\n",
       "      <td>1.0</td>\n",
       "      <td>0.0</td>\n",
       "      <td>0.0</td>\n",
       "      <td>0.0</td>\n",
       "      <td>0.0</td>\n",
       "    </tr>\n",
       "  </tbody>\n",
       "</table>\n",
       "</div>"
      ],
      "text/plain": [
       "     height  country of origin_Mexico  country of origin_Colombia  \\\n",
       "0  0.935272                       0.0                         1.0   \n",
       "1 -0.691288                       0.0                         0.0   \n",
       "2 -0.149101                       1.0                         0.0   \n",
       "3  1.369021                       1.0                         0.0   \n",
       "4 -0.149101                       0.0                         0.0   \n",
       "5 -1.314803                       0.0                         1.0   \n",
       "\n",
       "   country of origin_Chile  country of origin_USA  eye color_brown  \\\n",
       "0                      0.0                    0.0              1.0   \n",
       "1                      0.0                    1.0              1.0   \n",
       "2                      0.0                    0.0              0.0   \n",
       "3                      0.0                    0.0              0.0   \n",
       "4                      1.0                    0.0              0.0   \n",
       "5                      0.0                    0.0              1.0   \n",
       "\n",
       "   eye color_red  eye color_blonde  gender_F  gender_M  \n",
       "0            0.0               0.0       0.0       1.0  \n",
       "1            0.0               0.0       0.0       0.0  \n",
       "2            0.0               1.0       1.0       0.0  \n",
       "3            1.0               0.0       1.0       0.0  \n",
       "4            0.0               0.0       1.0       0.0  \n",
       "5            0.0               0.0       0.0       0.0  "
      ]
     },
     "execution_count": 126,
     "metadata": {},
     "output_type": "execute_result"
    }
   ],
   "source": [
    "bt = BasicTransformer(return_df=True)\n",
    "bt.fit_transform(df_new)"
   ]
  },
  {
   "cell_type": "markdown",
   "metadata": {},
   "source": [
    "## Time series\n",
    "\n",
    "The [wafer dataset](http://www.timeseriesclassification.com/description.php?Dataset=Wafer) is a set of timeseries capturing sensor measurements (1000 training examples, 6164 test examples) of one silicon wafer during the manufacture of semiconductors. Each wafer has a classification of normal or abnormal. The abnormal wafers are representative of a range of problems commonly encountered during semiconductor manufacturing."
   ]
  },
  {
   "cell_type": "code",
   "execution_count": 1,
   "metadata": {},
   "outputs": [],
   "source": [
    "import requests\n",
    "from io import StringIO\n",
    "dat_file = requests.get(\"https://github.com/zygmuntz/time-series-classification/blob/master/data/wafer/Wafer.csv?raw=true\")\n",
    "data = StringIO(dat_file.text)"
   ]
  },
  {
   "cell_type": "code",
   "execution_count": 2,
   "metadata": {},
   "outputs": [],
   "source": [
    "%matplotlib inline\n",
    "import matplotlib.pyplot as plt\n",
    "import numpy as np\n",
    "import pandas as pd\n",
    "data.seek(0)\n",
    "df = pd.read_csv(data, header=None)"
   ]
  },
  {
   "cell_type": "code",
   "execution_count": 3,
   "metadata": {},
   "outputs": [
    {
     "data": {
      "text/html": [
       "<div>\n",
       "<style scoped>\n",
       "    .dataframe tbody tr th:only-of-type {\n",
       "        vertical-align: middle;\n",
       "    }\n",
       "\n",
       "    .dataframe tbody tr th {\n",
       "        vertical-align: top;\n",
       "    }\n",
       "\n",
       "    .dataframe thead th {\n",
       "        text-align: right;\n",
       "    }\n",
       "</style>\n",
       "<table border=\"1\" class=\"dataframe\">\n",
       "  <thead>\n",
       "    <tr style=\"text-align: right;\">\n",
       "      <th></th>\n",
       "      <th>0</th>\n",
       "      <th>1</th>\n",
       "      <th>2</th>\n",
       "      <th>3</th>\n",
       "      <th>4</th>\n",
       "      <th>5</th>\n",
       "      <th>6</th>\n",
       "      <th>7</th>\n",
       "      <th>8</th>\n",
       "      <th>9</th>\n",
       "      <th>...</th>\n",
       "      <th>143</th>\n",
       "      <th>144</th>\n",
       "      <th>145</th>\n",
       "      <th>146</th>\n",
       "      <th>147</th>\n",
       "      <th>148</th>\n",
       "      <th>149</th>\n",
       "      <th>150</th>\n",
       "      <th>151</th>\n",
       "      <th>152</th>\n",
       "    </tr>\n",
       "  </thead>\n",
       "  <tbody>\n",
       "    <tr>\n",
       "      <th>0</th>\n",
       "      <td>1.01430</td>\n",
       "      <td>1.0143</td>\n",
       "      <td>1.01430</td>\n",
       "      <td>1.01430</td>\n",
       "      <td>1.01430</td>\n",
       "      <td>1.0143</td>\n",
       "      <td>1.01430</td>\n",
       "      <td>1.01430</td>\n",
       "      <td>1.01430</td>\n",
       "      <td>1.0143</td>\n",
       "      <td>...</td>\n",
       "      <td>1.01430</td>\n",
       "      <td>1.01430</td>\n",
       "      <td>1.014300</td>\n",
       "      <td>1.014300</td>\n",
       "      <td>1.014300</td>\n",
       "      <td>1.014300</td>\n",
       "      <td>1.014300</td>\n",
       "      <td>1.014300</td>\n",
       "      <td>1.01430</td>\n",
       "      <td>1</td>\n",
       "    </tr>\n",
       "    <tr>\n",
       "      <th>1</th>\n",
       "      <td>-0.88485</td>\n",
       "      <td>-1.0375</td>\n",
       "      <td>-0.97771</td>\n",
       "      <td>-1.01690</td>\n",
       "      <td>-0.98675</td>\n",
       "      <td>-1.0107</td>\n",
       "      <td>-0.98142</td>\n",
       "      <td>-1.01920</td>\n",
       "      <td>-0.96448</td>\n",
       "      <td>-1.0542</td>\n",
       "      <td>...</td>\n",
       "      <td>-1.00060</td>\n",
       "      <td>-0.99919</td>\n",
       "      <td>-1.002200</td>\n",
       "      <td>-0.997130</td>\n",
       "      <td>-1.005200</td>\n",
       "      <td>-0.992500</td>\n",
       "      <td>-1.012500</td>\n",
       "      <td>-0.980370</td>\n",
       "      <td>-1.03760</td>\n",
       "      <td>-1</td>\n",
       "    </tr>\n",
       "    <tr>\n",
       "      <th>2</th>\n",
       "      <td>0.58040</td>\n",
       "      <td>0.5804</td>\n",
       "      <td>0.59777</td>\n",
       "      <td>0.59777</td>\n",
       "      <td>0.58040</td>\n",
       "      <td>0.5804</td>\n",
       "      <td>0.59777</td>\n",
       "      <td>0.58040</td>\n",
       "      <td>0.58040</td>\n",
       "      <td>0.5804</td>\n",
       "      <td>...</td>\n",
       "      <td>0.42407</td>\n",
       "      <td>0.40670</td>\n",
       "      <td>0.389330</td>\n",
       "      <td>0.371960</td>\n",
       "      <td>0.354590</td>\n",
       "      <td>0.337220</td>\n",
       "      <td>0.319860</td>\n",
       "      <td>0.302490</td>\n",
       "      <td>0.28512</td>\n",
       "      <td>1</td>\n",
       "    </tr>\n",
       "    <tr>\n",
       "      <th>3</th>\n",
       "      <td>-0.88390</td>\n",
       "      <td>-1.0371</td>\n",
       "      <td>-0.97998</td>\n",
       "      <td>-1.01210</td>\n",
       "      <td>-0.99210</td>\n",
       "      <td>-1.0048</td>\n",
       "      <td>-1.00040</td>\n",
       "      <td>-0.99608</td>\n",
       "      <td>-1.01120</td>\n",
       "      <td>-0.9817</td>\n",
       "      <td>...</td>\n",
       "      <td>-1.00020</td>\n",
       "      <td>-0.99878</td>\n",
       "      <td>-1.001800</td>\n",
       "      <td>-0.996730</td>\n",
       "      <td>-1.004800</td>\n",
       "      <td>-0.992100</td>\n",
       "      <td>-1.012100</td>\n",
       "      <td>-0.979980</td>\n",
       "      <td>-1.03710</td>\n",
       "      <td>-1</td>\n",
       "    </tr>\n",
       "    <tr>\n",
       "      <th>4</th>\n",
       "      <td>1.10500</td>\n",
       "      <td>1.2856</td>\n",
       "      <td>1.19630</td>\n",
       "      <td>1.25610</td>\n",
       "      <td>1.21950</td>\n",
       "      <td>1.2133</td>\n",
       "      <td>1.21540</td>\n",
       "      <td>1.22240</td>\n",
       "      <td>1.23160</td>\n",
       "      <td>1.2081</td>\n",
       "      <td>...</td>\n",
       "      <td>0.14516</td>\n",
       "      <td>0.11434</td>\n",
       "      <td>0.083001</td>\n",
       "      <td>0.052635</td>\n",
       "      <td>0.020452</td>\n",
       "      <td>-0.008753</td>\n",
       "      <td>-0.042507</td>\n",
       "      <td>-0.069158</td>\n",
       "      <td>-0.10816</td>\n",
       "      <td>-1</td>\n",
       "    </tr>\n",
       "  </tbody>\n",
       "</table>\n",
       "<p>5 rows × 153 columns</p>\n",
       "</div>"
      ],
      "text/plain": [
       "       0       1        2        3        4       5        6        7    \\\n",
       "0  1.01430  1.0143  1.01430  1.01430  1.01430  1.0143  1.01430  1.01430   \n",
       "1 -0.88485 -1.0375 -0.97771 -1.01690 -0.98675 -1.0107 -0.98142 -1.01920   \n",
       "2  0.58040  0.5804  0.59777  0.59777  0.58040  0.5804  0.59777  0.58040   \n",
       "3 -0.88390 -1.0371 -0.97998 -1.01210 -0.99210 -1.0048 -1.00040 -0.99608   \n",
       "4  1.10500  1.2856  1.19630  1.25610  1.21950  1.2133  1.21540  1.22240   \n",
       "\n",
       "       8       9   ...       143      144       145       146       147  \\\n",
       "0  1.01430  1.0143 ...   1.01430  1.01430  1.014300  1.014300  1.014300   \n",
       "1 -0.96448 -1.0542 ...  -1.00060 -0.99919 -1.002200 -0.997130 -1.005200   \n",
       "2  0.58040  0.5804 ...   0.42407  0.40670  0.389330  0.371960  0.354590   \n",
       "3 -1.01120 -0.9817 ...  -1.00020 -0.99878 -1.001800 -0.996730 -1.004800   \n",
       "4  1.23160  1.2081 ...   0.14516  0.11434  0.083001  0.052635  0.020452   \n",
       "\n",
       "        148       149       150      151  152  \n",
       "0  1.014300  1.014300  1.014300  1.01430    1  \n",
       "1 -0.992500 -1.012500 -0.980370 -1.03760   -1  \n",
       "2  0.337220  0.319860  0.302490  0.28512    1  \n",
       "3 -0.992100 -1.012100 -0.979980 -1.03710   -1  \n",
       "4 -0.008753 -0.042507 -0.069158 -0.10816   -1  \n",
       "\n",
       "[5 rows x 153 columns]"
      ]
     },
     "execution_count": 3,
     "metadata": {},
     "output_type": "execute_result"
    }
   ],
   "source": [
    "df.head()"
   ]
  },
  {
   "cell_type": "code",
   "execution_count": 4,
   "metadata": {},
   "outputs": [
    {
     "data": {
      "text/plain": [
       " 1    6402\n",
       "-1     762\n",
       "Name: 152, dtype: int64"
      ]
     },
     "execution_count": 4,
     "metadata": {},
     "output_type": "execute_result"
    }
   ],
   "source": [
    "df[152].value_counts()"
   ]
  },
  {
   "cell_type": "code",
   "execution_count": 5,
   "metadata": {},
   "outputs": [],
   "source": [
    "## save the data as numpy arrays\n",
    "target = df.values[:,152].astype(int)\n",
    "time_series = df.values[:,0:152]"
   ]
  },
  {
   "cell_type": "code",
   "execution_count": 6,
   "metadata": {},
   "outputs": [
    {
     "data": {
      "text/plain": [
       "Text(0, 0.5, 'Value')"
      ]
     },
     "execution_count": 6,
     "metadata": {},
     "output_type": "execute_result"
    },
    {
     "data": {
      "image/png": "[encoded data removed]",
      "text/plain": [
       "<Figure size 864x432 with 2 Axes>"
      ]
     },
     "metadata": {},
     "output_type": "display_data"
    }
   ],
   "source": [
    "normal_inds = np.argwhere(target == 1) ; np.random.shuffle(normal_inds)\n",
    "abnormal_inds = np.argwhere(target == -1); np.random.shuffle(abnormal_inds)\n",
    "\n",
    "num_to_plot = 3\n",
    "fig, (ax1, ax2) = plt.subplots(nrows=1, ncols=2, sharey=True, figsize=(12,6))\n",
    "\n",
    "for i in range(num_to_plot):\n",
    "    ax1.plot(time_series[normal_inds[i][0],:], label=f\"#{normal_inds[i][0]}: {target[normal_inds[i][0]]}\")\n",
    "    ax2.plot(time_series[abnormal_inds[i][0],:], label=f\"#{abnormal_inds[i][0]}: {target[abnormal_inds[i][0]]}\")\n",
    "\n",
    "ax1.legend()\n",
    "ax2.legend()\n",
    "ax1.set_title(\"Normal\") ; ax2.set_title(\"Abnormal\") \n",
    "ax1.set_xlabel(\"time\") ; ax2.set_xlabel(\"time\")\n",
    "ax1.set_ylabel(\"Value\")"
   ]
  },
  {
   "cell_type": "markdown",
   "metadata": {},
   "source": [
    "What would be good features here?"
   ]
  },
  {
   "cell_type": "code",
   "execution_count": 7,
   "metadata": {},
   "outputs": [
    {
     "data": {
      "text/plain": [
       "(7164,)"
      ]
     },
     "execution_count": 7,
     "metadata": {},
     "output_type": "execute_result"
    }
   ],
   "source": [
    "f1 = np.mean(time_series, axis=1)  # how about the mean?\n",
    "f1.shape"
   ]
  },
  {
   "cell_type": "code",
   "execution_count": 8,
   "metadata": {},
   "outputs": [
    {
     "data": {
      "image/png": "[encoded data removed]",
      "text/plain": [
       "<Figure size 432x288 with 1 Axes>"
      ]
     },
     "metadata": {},
     "output_type": "display_data"
    }
   ],
   "source": [
    "import seaborn as sns, numpy as np\n",
    "import warnings\n",
    "warnings.filterwarnings(\"ignore\")\n",
    "\n",
    "ax = sns.distplot(f1)"
   ]
  },
  {
   "cell_type": "code",
   "execution_count": 9,
   "metadata": {},
   "outputs": [
    {
     "data": {
      "text/plain": [
       "<matplotlib.axes._subplots.AxesSubplot at 0x1a1f0c6668>"
      ]
     },
     "execution_count": 9,
     "metadata": {},
     "output_type": "execute_result"
    },
    {
     "data": {
      "image/png": "[encoded data removed]",
      "text/plain": [
       "<Figure size 432x288 with 1 Axes>"
      ]
     },
     "metadata": {},
     "output_type": "display_data"
    }
   ],
   "source": [
    "ax = sns.distplot(f1[normal_inds], kde_kws={\"label\": \"normal\"})\n",
    "sns.distplot(f1[abnormal_inds], ax=ax, kde_kws={\"label\": \"abnormal\"})"
   ]
  },
  {
   "cell_type": "code",
   "execution_count": 10,
   "metadata": {},
   "outputs": [
    {
     "data": {
      "text/plain": [
       "(7164,)"
      ]
     },
     "execution_count": 10,
     "metadata": {},
     "output_type": "execute_result"
    }
   ],
   "source": [
    "f2 = np.min(time_series, axis=1)  # how about the mean?\n",
    "f2.shape"
   ]
  },
  {
   "cell_type": "code",
   "execution_count": 11,
   "metadata": {},
   "outputs": [
    {
     "data": {
      "text/plain": [
       "<matplotlib.axes._subplots.AxesSubplot at 0x1a1f1fa048>"
      ]
     },
     "execution_count": 11,
     "metadata": {},
     "output_type": "execute_result"
    },
    {
     "data": {
      "image/png": "[encoded data removed]",
      "text/plain": [
       "<Figure size 432x288 with 1 Axes>"
      ]
     },
     "metadata": {},
     "output_type": "display_data"
    }
   ],
   "source": [
    "ax = sns.distplot(f2[normal_inds], kde_kws={\"label\": \"normal\"})\n",
    "sns.distplot(f2[abnormal_inds], ax=ax, kde_kws={\"label\": \"abnormal\"})"
   ]
  },
  {
   "cell_type": "markdown",
   "metadata": {},
   "source": [
    "Often there are entire python packages devoted to help us build features from certain types of datasets (timeseries, text, images, movies, etc.). In the case of timeseries, a popular package is `tsfresh` (*\"It automatically calculates a large number of time series characteristics, the so called features. Further the package contains methods to evaluate the explaining power and importance of such characteristics for regression or classification tasks.\"*). See the [tsfresh docs](https://tsfresh.readthedocs.io/en/latest/) and the [list of features generated](https://tsfresh.readthedocs.io/en/latest/text/list_of_features.html)."
   ]
  },
  {
   "cell_type": "code",
   "execution_count": 12,
   "metadata": {},
   "outputs": [],
   "source": [
    "# !pip install tsfresh"
   ]
  },
  {
   "cell_type": "code",
   "execution_count": 13,
   "metadata": {},
   "outputs": [],
   "source": [
    "dfc = df.copy()\n",
    "del dfc[152]\n",
    "d = dfc.stack()\n",
    "d = d.reset_index()\n",
    "d = d.rename(columns={\"level_0\": \"id\", \"level_1\": \"time\", 0: \"value\"})\n",
    "y = df[152]"
   ]
  },
  {
   "cell_type": "code",
   "execution_count": 19,
   "metadata": {},
   "outputs": [
    {
     "name": "stderr",
     "output_type": "stream",
     "text": [
      "Feature Extraction: 100%|██████████| 10/10 [00:23<00:00,  2.39s/it]\n",
      "WARNING:tsfresh.utilities.dataframe_functions:The columns ['value__fft_coefficient__coeff_77__attr_\"abs\"'\n",
      " 'value__fft_coefficient__coeff_77__attr_\"angle\"'\n",
      " 'value__fft_coefficient__coeff_77__attr_\"imag\"'\n",
      " 'value__fft_coefficient__coeff_77__attr_\"real\"'\n",
      " 'value__fft_coefficient__coeff_78__attr_\"abs\"'\n",
      " 'value__fft_coefficient__coeff_78__attr_\"angle\"'\n",
      " 'value__fft_coefficient__coeff_78__attr_\"imag\"'\n",
      " 'value__fft_coefficient__coeff_78__attr_\"real\"'\n",
      " 'value__fft_coefficient__coeff_79__attr_\"abs\"'\n",
      " 'value__fft_coefficient__coeff_79__attr_\"angle\"'\n",
      " 'value__fft_coefficient__coeff_79__attr_\"imag\"'\n",
      " 'value__fft_coefficient__coeff_79__attr_\"real\"'\n",
      " 'value__fft_coefficient__coeff_80__attr_\"abs\"'\n",
      " 'value__fft_coefficient__coeff_80__attr_\"angle\"'\n",
      " 'value__fft_coefficient__coeff_80__attr_\"imag\"'\n",
      " 'value__fft_coefficient__coeff_80__attr_\"real\"'\n",
      " 'value__fft_coefficient__coeff_81__attr_\"abs\"'\n",
      " 'value__fft_coefficient__coeff_81__attr_\"angle\"'\n",
      " 'value__fft_coefficient__coeff_81__attr_\"imag\"'\n",
      " 'value__fft_coefficient__coeff_81__attr_\"real\"'\n",
      " 'value__fft_coefficient__coeff_82__attr_\"abs\"'\n",
      " 'value__fft_coefficient__coeff_82__attr_\"angle\"'\n",
      " 'value__fft_coefficient__coeff_82__attr_\"imag\"'\n",
      " 'value__fft_coefficient__coeff_82__attr_\"real\"'\n",
      " 'value__fft_coefficient__coeff_83__attr_\"abs\"'\n",
      " 'value__fft_coefficient__coeff_83__attr_\"angle\"'\n",
      " 'value__fft_coefficient__coeff_83__attr_\"imag\"'\n",
      " 'value__fft_coefficient__coeff_83__attr_\"real\"'\n",
      " 'value__fft_coefficient__coeff_84__attr_\"abs\"'\n",
      " 'value__fft_coefficient__coeff_84__attr_\"angle\"'\n",
      " 'value__fft_coefficient__coeff_84__attr_\"imag\"'\n",
      " 'value__fft_coefficient__coeff_84__attr_\"real\"'\n",
      " 'value__fft_coefficient__coeff_85__attr_\"abs\"'\n",
      " 'value__fft_coefficient__coeff_85__attr_\"angle\"'\n",
      " 'value__fft_coefficient__coeff_85__attr_\"imag\"'\n",
      " 'value__fft_coefficient__coeff_85__attr_\"real\"'\n",
      " 'value__fft_coefficient__coeff_86__attr_\"abs\"'\n",
      " 'value__fft_coefficient__coeff_86__attr_\"angle\"'\n",
      " 'value__fft_coefficient__coeff_86__attr_\"imag\"'\n",
      " 'value__fft_coefficient__coeff_86__attr_\"real\"'\n",
      " 'value__fft_coefficient__coeff_87__attr_\"abs\"'\n",
      " 'value__fft_coefficient__coeff_87__attr_\"angle\"'\n",
      " 'value__fft_coefficient__coeff_87__attr_\"imag\"'\n",
      " 'value__fft_coefficient__coeff_87__attr_\"real\"'\n",
      " 'value__fft_coefficient__coeff_88__attr_\"abs\"'\n",
      " 'value__fft_coefficient__coeff_88__attr_\"angle\"'\n",
      " 'value__fft_coefficient__coeff_88__attr_\"imag\"'\n",
      " 'value__fft_coefficient__coeff_88__attr_\"real\"'\n",
      " 'value__fft_coefficient__coeff_89__attr_\"abs\"'\n",
      " 'value__fft_coefficient__coeff_89__attr_\"angle\"'\n",
      " 'value__fft_coefficient__coeff_89__attr_\"imag\"'\n",
      " 'value__fft_coefficient__coeff_89__attr_\"real\"'\n",
      " 'value__fft_coefficient__coeff_90__attr_\"abs\"'\n",
      " 'value__fft_coefficient__coeff_90__attr_\"angle\"'\n",
      " 'value__fft_coefficient__coeff_90__attr_\"imag\"'\n",
      " 'value__fft_coefficient__coeff_90__attr_\"real\"'\n",
      " 'value__fft_coefficient__coeff_91__attr_\"abs\"'\n",
      " 'value__fft_coefficient__coeff_91__attr_\"angle\"'\n",
      " 'value__fft_coefficient__coeff_91__attr_\"imag\"'\n",
      " 'value__fft_coefficient__coeff_91__attr_\"real\"'\n",
      " 'value__fft_coefficient__coeff_92__attr_\"abs\"'\n",
      " 'value__fft_coefficient__coeff_92__attr_\"angle\"'\n",
      " 'value__fft_coefficient__coeff_92__attr_\"imag\"'\n",
      " 'value__fft_coefficient__coeff_92__attr_\"real\"'\n",
      " 'value__fft_coefficient__coeff_93__attr_\"abs\"'\n",
      " 'value__fft_coefficient__coeff_93__attr_\"angle\"'\n",
      " 'value__fft_coefficient__coeff_93__attr_\"imag\"'\n",
      " 'value__fft_coefficient__coeff_93__attr_\"real\"'\n",
      " 'value__fft_coefficient__coeff_94__attr_\"abs\"'\n",
      " 'value__fft_coefficient__coeff_94__attr_\"angle\"'\n",
      " 'value__fft_coefficient__coeff_94__attr_\"imag\"'\n",
      " 'value__fft_coefficient__coeff_94__attr_\"real\"'\n",
      " 'value__fft_coefficient__coeff_95__attr_\"abs\"'\n",
      " 'value__fft_coefficient__coeff_95__attr_\"angle\"'\n",
      " 'value__fft_coefficient__coeff_95__attr_\"imag\"'\n",
      " 'value__fft_coefficient__coeff_95__attr_\"real\"'\n",
      " 'value__fft_coefficient__coeff_96__attr_\"abs\"'\n",
      " 'value__fft_coefficient__coeff_96__attr_\"angle\"'\n",
      " 'value__fft_coefficient__coeff_96__attr_\"imag\"'\n",
      " 'value__fft_coefficient__coeff_96__attr_\"real\"'\n",
      " 'value__fft_coefficient__coeff_97__attr_\"abs\"'\n",
      " 'value__fft_coefficient__coeff_97__attr_\"angle\"'\n",
      " 'value__fft_coefficient__coeff_97__attr_\"imag\"'\n",
      " 'value__fft_coefficient__coeff_97__attr_\"real\"'\n",
      " 'value__fft_coefficient__coeff_98__attr_\"abs\"'\n",
      " 'value__fft_coefficient__coeff_98__attr_\"angle\"'\n",
      " 'value__fft_coefficient__coeff_98__attr_\"imag\"'\n",
      " 'value__fft_coefficient__coeff_98__attr_\"real\"'\n",
      " 'value__fft_coefficient__coeff_99__attr_\"abs\"'\n",
      " 'value__fft_coefficient__coeff_99__attr_\"angle\"'\n",
      " 'value__fft_coefficient__coeff_99__attr_\"imag\"'\n",
      " 'value__fft_coefficient__coeff_99__attr_\"real\"'] did not have any finite values. Filling with zeros.\n",
      "WARNING:tsfresh.feature_selection.relevance:Infered classification as machine learning task\n",
      "WARNING:tsfresh.feature_selection.relevance:[test_feature_significance] Feature value__autocorrelation__lag_0 is constant\n",
      "WARNING:tsfresh.feature_selection.relevance:[test_feature_significance] Feature value__change_quantiles__f_agg_\"mean\"__isabs_True__qh_0.2__ql_0.2 is constant\n",
      "WARNING:tsfresh.feature_selection.relevance:[test_feature_significance] Feature value__change_quantiles__f_agg_\"mean\"__isabs_False__qh_0.2__ql_0.2 is constant\n",
      "WARNING:tsfresh.feature_selection.relevance:[test_feature_significance] Feature value__change_quantiles__f_agg_\"mean\"__isabs_True__qh_0.2__ql_0.4 is constant\n",
      "WARNING:tsfresh.feature_selection.relevance:[test_feature_significance] Feature value__change_quantiles__f_agg_\"mean\"__isabs_False__qh_0.2__ql_0.4 is constant\n",
      "WARNING:tsfresh.feature_selection.relevance:[test_feature_significance] Feature value__change_quantiles__f_agg_\"mean\"__isabs_True__qh_0.2__ql_0.6 is constant\n",
      "WARNING:tsfresh.feature_selection.relevance:[test_feature_significance] Feature value__change_quantiles__f_agg_\"mean\"__isabs_False__qh_0.2__ql_0.6 is constant\n",
      "WARNING:tsfresh.feature_selection.relevance:[test_feature_significance] Feature value__change_quantiles__f_agg_\"mean\"__isabs_True__qh_0.2__ql_0.8 is constant\n",
      "WARNING:tsfresh.feature_selection.relevance:[test_feature_significance] Feature value__change_quantiles__f_agg_\"mean\"__isabs_False__qh_0.2__ql_0.8 is constant\n",
      "WARNING:tsfresh.feature_selection.relevance:[test_feature_significance] Feature value__change_quantiles__f_agg_\"mean\"__isabs_True__qh_0.4__ql_0.4 is constant\n",
      "WARNING:tsfresh.feature_selection.relevance:[test_feature_significance] Feature value__change_quantiles__f_agg_\"mean\"__isabs_True__qh_0.4__ql_0.6 is constant\n",
      "WARNING:tsfresh.feature_selection.relevance:[test_feature_significance] Feature value__change_quantiles__f_agg_\"mean\"__isabs_False__qh_0.4__ql_0.4 is constant\n",
      "WARNING:tsfresh.feature_selection.relevance:[test_feature_significance] Feature value__change_quantiles__f_agg_\"mean\"__isabs_False__qh_0.4__ql_0.6 is constant\n",
      "WARNING:tsfresh.feature_selection.relevance:[test_feature_significance] Feature value__change_quantiles__f_agg_\"mean\"__isabs_True__qh_0.4__ql_0.8 is constant\n",
      "WARNING:tsfresh.feature_selection.relevance:[test_feature_significance] Feature value__change_quantiles__f_agg_\"mean\"__isabs_False__qh_0.4__ql_0.8 is constant\n",
      "WARNING:tsfresh.feature_selection.relevance:[test_feature_significance] Feature value__change_quantiles__f_agg_\"mean\"__isabs_True__qh_0.6__ql_0.6 is constant\n",
      "WARNING:tsfresh.feature_selection.relevance:[test_feature_significance] Feature value__change_quantiles__f_agg_\"mean\"__isabs_False__qh_0.6__ql_0.6 is constant\n",
      "WARNING:tsfresh.feature_selection.relevance:[test_feature_significance] Feature value__change_quantiles__f_agg_\"mean\"__isabs_True__qh_0.6__ql_0.8 is constant\n",
      "WARNING:tsfresh.feature_selection.relevance:[test_feature_significance] Feature value__change_quantiles__f_agg_\"mean\"__isabs_False__qh_0.6__ql_0.8 is constant\n",
      "WARNING:tsfresh.feature_selection.relevance:[test_feature_significance] Feature value__change_quantiles__f_agg_\"mean\"__isabs_True__qh_0.8__ql_0.8 is constant\n",
      "WARNING:tsfresh.feature_selection.relevance:[test_feature_significance] Feature value__change_quantiles__f_agg_\"mean\"__isabs_False__qh_0.8__ql_0.8 is constant\n",
      "WARNING:tsfresh.feature_selection.relevance:[test_feature_significance] Feature value__change_quantiles__f_agg_\"var\"__isabs_False__qh_0.2__ql_0.2 is constant\n"
     ]
    },
    {
     "name": "stderr",
     "output_type": "stream",
     "text": [
      "WARNING:tsfresh.feature_selection.relevance:[test_feature_significance] Feature value__change_quantiles__f_agg_\"var\"__isabs_False__qh_0.2__ql_0.4 is constant\n",
      "WARNING:tsfresh.feature_selection.relevance:[test_feature_significance] Feature value__fft_coefficient__coeff_0__attr_\"imag\" is constant\n",
      "WARNING:tsfresh.feature_selection.relevance:[test_feature_significance] Feature value__change_quantiles__f_agg_\"var\"__isabs_False__qh_0.2__ql_0.6 is constant\n",
      "WARNING:tsfresh.feature_selection.relevance:[test_feature_significance] Feature value__change_quantiles__f_agg_\"var\"__isabs_False__qh_0.2__ql_0.8 is constant\n",
      "WARNING:tsfresh.feature_selection.relevance:[test_feature_significance] Feature value__change_quantiles__f_agg_\"var\"__isabs_False__qh_0.4__ql_0.4 is constant\n",
      "WARNING:tsfresh.feature_selection.relevance:[test_feature_significance] Feature value__change_quantiles__f_agg_\"var\"__isabs_False__qh_0.4__ql_0.6 is constant\n",
      "WARNING:tsfresh.feature_selection.relevance:[test_feature_significance] Feature value__change_quantiles__f_agg_\"var\"__isabs_False__qh_0.4__ql_0.8 is constant\n",
      "WARNING:tsfresh.feature_selection.relevance:[test_feature_significance] Feature value__change_quantiles__f_agg_\"var\"__isabs_False__qh_0.6__ql_0.6 is constant\n",
      "WARNING:tsfresh.feature_selection.relevance:[test_feature_significance] Feature value__change_quantiles__f_agg_\"var\"__isabs_False__qh_0.6__ql_0.8 is constant\n",
      "WARNING:tsfresh.feature_selection.relevance:[test_feature_significance] Feature value__change_quantiles__f_agg_\"var\"__isabs_False__qh_0.8__ql_0.8 is constant\n",
      "WARNING:tsfresh.feature_selection.relevance:[test_feature_significance] Feature value__change_quantiles__f_agg_\"var\"__isabs_True__qh_0.2__ql_0.2 is constant\n",
      "WARNING:tsfresh.feature_selection.relevance:[test_feature_significance] Feature value__change_quantiles__f_agg_\"var\"__isabs_True__qh_0.2__ql_0.4 is constant\n",
      "WARNING:tsfresh.feature_selection.relevance:[test_feature_significance] Feature value__change_quantiles__f_agg_\"var\"__isabs_True__qh_0.2__ql_0.6 is constant\n",
      "WARNING:tsfresh.feature_selection.relevance:[test_feature_significance] Feature value__change_quantiles__f_agg_\"var\"__isabs_True__qh_0.2__ql_0.8 is constant\n",
      "WARNING:tsfresh.feature_selection.relevance:[test_feature_significance] Feature value__change_quantiles__f_agg_\"var\"__isabs_True__qh_0.4__ql_0.4 is constant\n",
      "WARNING:tsfresh.feature_selection.relevance:[test_feature_significance] Feature value__change_quantiles__f_agg_\"var\"__isabs_True__qh_0.4__ql_0.8 is constant\n",
      "WARNING:tsfresh.feature_selection.relevance:[test_feature_significance] Feature value__change_quantiles__f_agg_\"var\"__isabs_True__qh_0.4__ql_0.6 is constant\n",
      "WARNING:tsfresh.feature_selection.relevance:[test_feature_significance] Feature value__fft_coefficient__coeff_76__attr_\"imag\" is constant\n",
      "WARNING:tsfresh.feature_selection.relevance:[test_feature_significance] Feature value__fft_coefficient__coeff_77__attr_\"abs\" is constant\n",
      "WARNING:tsfresh.feature_selection.relevance:[test_feature_significance] Feature value__fft_coefficient__coeff_77__attr_\"angle\" is constant\n",
      "WARNING:tsfresh.feature_selection.relevance:[test_feature_significance] Feature value__change_quantiles__f_agg_\"var\"__isabs_True__qh_0.6__ql_0.6 is constant\n",
      "WARNING:tsfresh.feature_selection.relevance:[test_feature_significance] Feature value__fft_coefficient__coeff_77__attr_\"imag\" is constant\n",
      "WARNING:tsfresh.feature_selection.relevance:[test_feature_significance] Feature value__fft_coefficient__coeff_77__attr_\"real\" is constant\n",
      "WARNING:tsfresh.feature_selection.relevance:[test_feature_significance] Feature value__fft_coefficient__coeff_78__attr_\"abs\" is constant\n",
      "WARNING:tsfresh.feature_selection.relevance:[test_feature_significance] Feature value__fft_coefficient__coeff_78__attr_\"angle\" is constant\n",
      "WARNING:tsfresh.feature_selection.relevance:[test_feature_significance] Feature value__change_quantiles__f_agg_\"var\"__isabs_True__qh_0.6__ql_0.8 is constant\n",
      "WARNING:tsfresh.feature_selection.relevance:[test_feature_significance] Feature value__fft_coefficient__coeff_78__attr_\"imag\" is constant\n",
      "WARNING:tsfresh.feature_selection.relevance:[test_feature_significance] Feature value__fft_coefficient__coeff_78__attr_\"real\" is constant\n",
      "WARNING:tsfresh.feature_selection.relevance:[test_feature_significance] Feature value__fft_coefficient__coeff_79__attr_\"abs\" is constant\n",
      "WARNING:tsfresh.feature_selection.relevance:[test_feature_significance] Feature value__fft_coefficient__coeff_79__attr_\"angle\" is constant\n",
      "WARNING:tsfresh.feature_selection.relevance:[test_feature_significance] Feature value__change_quantiles__f_agg_\"var\"__isabs_True__qh_0.8__ql_0.8 is constant\n",
      "WARNING:tsfresh.feature_selection.relevance:[test_feature_significance] Feature value__fft_coefficient__coeff_79__attr_\"imag\" is constant\n",
      "WARNING:tsfresh.feature_selection.relevance:[test_feature_significance] Feature value__fft_coefficient__coeff_79__attr_\"real\" is constant\n",
      "WARNING:tsfresh.feature_selection.relevance:[test_feature_significance] Feature value__fft_coefficient__coeff_80__attr_\"abs\" is constant\n",
      "WARNING:tsfresh.feature_selection.relevance:[test_feature_significance] Feature value__fft_coefficient__coeff_80__attr_\"angle\" is constant\n",
      "WARNING:tsfresh.feature_selection.relevance:[test_feature_significance] Feature value__fft_coefficient__coeff_80__attr_\"imag\" is constant\n",
      "WARNING:tsfresh.feature_selection.relevance:[test_feature_significance] Feature value__fft_coefficient__coeff_80__attr_\"real\" is constant\n",
      "WARNING:tsfresh.feature_selection.relevance:[test_feature_significance] Feature value__fft_coefficient__coeff_81__attr_\"abs\" is constant\n",
      "WARNING:tsfresh.feature_selection.relevance:[test_feature_significance] Feature value__fft_coefficient__coeff_81__attr_\"real\" is constant\n",
      "WARNING:tsfresh.feature_selection.relevance:[test_feature_significance] Feature value__fft_coefficient__coeff_81__attr_\"angle\" is constant\n",
      "WARNING:tsfresh.feature_selection.relevance:[test_feature_significance] Feature value__fft_coefficient__coeff_81__attr_\"imag\" is constant\n",
      "WARNING:tsfresh.feature_selection.relevance:[test_feature_significance] Feature value__fft_coefficient__coeff_82__attr_\"abs\" is constant\n",
      "WARNING:tsfresh.feature_selection.relevance:[test_feature_significance] Feature value__fft_coefficient__coeff_82__attr_\"angle\" is constant\n",
      "WARNING:tsfresh.feature_selection.relevance:[test_feature_significance] Feature value__fft_coefficient__coeff_82__attr_\"imag\" is constant\n",
      "WARNING:tsfresh.feature_selection.relevance:[test_feature_significance] Feature value__fft_coefficient__coeff_82__attr_\"real\" is constant\n",
      "WARNING:tsfresh.feature_selection.relevance:[test_feature_significance] Feature value__fft_coefficient__coeff_83__attr_\"abs\" is constant\n",
      "WARNING:tsfresh.feature_selection.relevance:[test_feature_significance] Feature value__fft_coefficient__coeff_83__attr_\"angle\" is constant\n",
      "WARNING:tsfresh.feature_selection.relevance:[test_feature_significance] Feature value__fft_coefficient__coeff_87__attr_\"imag\" is constant\n",
      "WARNING:tsfresh.feature_selection.relevance:[test_feature_significance] Feature value__fft_coefficient__coeff_87__attr_\"real\" is constant\n",
      "WARNING:tsfresh.feature_selection.relevance:[test_feature_significance] Feature value__fft_coefficient__coeff_83__attr_\"imag\" is constant\n",
      "WARNING:tsfresh.feature_selection.relevance:[test_feature_significance] Feature value__fft_coefficient__coeff_83__attr_\"real\" is constant\n",
      "WARNING:tsfresh.feature_selection.relevance:[test_feature_significance] Feature value__fft_coefficient__coeff_88__attr_\"abs\" is constant\n",
      "WARNING:tsfresh.feature_selection.relevance:[test_feature_significance] Feature value__fft_coefficient__coeff_84__attr_\"abs\" is constant\n",
      "WARNING:tsfresh.feature_selection.relevance:[test_feature_significance] Feature value__fft_coefficient__coeff_88__attr_\"angle\" is constant\n",
      "WARNING:tsfresh.feature_selection.relevance:[test_feature_significance] Feature value__fft_coefficient__coeff_84__attr_\"angle\" is constant\n",
      "WARNING:tsfresh.feature_selection.relevance:[test_feature_significance] Feature value__fft_coefficient__coeff_84__attr_\"imag\" is constant\n",
      "WARNING:tsfresh.feature_selection.relevance:[test_feature_significance] Feature value__fft_coefficient__coeff_84__attr_\"real\" is constant\n"
     ]
    },
    {
     "name": "stderr",
     "output_type": "stream",
     "text": [
      "WARNING:tsfresh.feature_selection.relevance:[test_feature_significance] Feature value__fft_coefficient__coeff_88__attr_\"imag\" is constant\n",
      "WARNING:tsfresh.feature_selection.relevance:[test_feature_significance] Feature value__fft_coefficient__coeff_85__attr_\"abs\" is constant\n",
      "WARNING:tsfresh.feature_selection.relevance:[test_feature_significance] Feature value__fft_coefficient__coeff_88__attr_\"real\" is constant\n",
      "WARNING:tsfresh.feature_selection.relevance:[test_feature_significance] Feature value__fft_coefficient__coeff_85__attr_\"angle\" is constant\n",
      "WARNING:tsfresh.feature_selection.relevance:[test_feature_significance] Feature value__fft_coefficient__coeff_85__attr_\"imag\" is constant\n",
      "WARNING:tsfresh.feature_selection.relevance:[test_feature_significance] Feature value__fft_coefficient__coeff_89__attr_\"abs\" is constant\n",
      "WARNING:tsfresh.feature_selection.relevance:[test_feature_significance] Feature value__fft_coefficient__coeff_85__attr_\"real\" is constant\n",
      "WARNING:tsfresh.feature_selection.relevance:[test_feature_significance] Feature value__fft_coefficient__coeff_89__attr_\"angle\" is constant\n",
      "WARNING:tsfresh.feature_selection.relevance:[test_feature_significance] Feature value__fft_coefficient__coeff_86__attr_\"abs\" is constant\n",
      "WARNING:tsfresh.feature_selection.relevance:[test_feature_significance] Feature value__fft_coefficient__coeff_89__attr_\"imag\" is constant\n",
      "WARNING:tsfresh.feature_selection.relevance:[test_feature_significance] Feature value__fft_coefficient__coeff_86__attr_\"angle\" is constant\n",
      "WARNING:tsfresh.feature_selection.relevance:[test_feature_significance] Feature value__fft_coefficient__coeff_86__attr_\"imag\" is constant\n",
      "WARNING:tsfresh.feature_selection.relevance:[test_feature_significance] Feature value__fft_coefficient__coeff_89__attr_\"real\" is constant\n",
      "WARNING:tsfresh.feature_selection.relevance:[test_feature_significance] Feature value__fft_coefficient__coeff_86__attr_\"real\" is constant\n",
      "WARNING:tsfresh.feature_selection.relevance:[test_feature_significance] Feature value__fft_coefficient__coeff_87__attr_\"abs\" is constant\n",
      "WARNING:tsfresh.feature_selection.relevance:[test_feature_significance] Feature value__fft_coefficient__coeff_90__attr_\"abs\" is constant\n",
      "WARNING:tsfresh.feature_selection.relevance:[test_feature_significance] Feature value__fft_coefficient__coeff_87__attr_\"angle\" is constant\n",
      "WARNING:tsfresh.feature_selection.relevance:[test_feature_significance] Feature value__fft_coefficient__coeff_90__attr_\"angle\" is constant\n",
      "WARNING:tsfresh.feature_selection.relevance:[test_feature_significance] Feature value__fft_coefficient__coeff_90__attr_\"imag\" is constant\n",
      "WARNING:tsfresh.feature_selection.relevance:[test_feature_significance] Feature value__fft_coefficient__coeff_90__attr_\"real\" is constant\n",
      "WARNING:tsfresh.feature_selection.relevance:[test_feature_significance] Feature value__fft_coefficient__coeff_91__attr_\"abs\" is constant\n",
      "WARNING:tsfresh.feature_selection.relevance:[test_feature_significance] Feature value__partial_autocorrelation__lag_0 is constant\n",
      "WARNING:tsfresh.feature_selection.relevance:[test_feature_significance] Feature value__fft_coefficient__coeff_91__attr_\"angle\" is constant\n",
      "WARNING:tsfresh.feature_selection.relevance:[test_feature_significance] Feature value__fft_coefficient__coeff_91__attr_\"imag\" is constant\n",
      "WARNING:tsfresh.feature_selection.relevance:[test_feature_significance] Feature value__range_count__max_0__min_1000000000000.0 is constant\n",
      "WARNING:tsfresh.feature_selection.relevance:[test_feature_significance] Feature value__fft_coefficient__coeff_91__attr_\"real\" is constant\n",
      "WARNING:tsfresh.feature_selection.relevance:[test_feature_significance] Feature value__symmetry_looking__r_0.0 is constant\n",
      "WARNING:tsfresh.feature_selection.relevance:[test_feature_significance] Feature value__fft_coefficient__coeff_92__attr_\"abs\" is constant\n",
      "WARNING:tsfresh.feature_selection.relevance:[test_feature_significance] Feature value__symmetry_looking__r_0.45 is constant\n",
      "WARNING:tsfresh.feature_selection.relevance:[test_feature_significance] Feature value__symmetry_looking__r_0.5 is constant\n",
      "WARNING:tsfresh.feature_selection.relevance:[test_feature_significance] Feature value__symmetry_looking__r_0.55 is constant\n",
      "WARNING:tsfresh.feature_selection.relevance:[test_feature_significance] Feature value__symmetry_looking__r_0.6000000000000001 is constant\n",
      "WARNING:tsfresh.feature_selection.relevance:[test_feature_significance] Feature value__fft_coefficient__coeff_92__attr_\"angle\" is constant\n",
      "WARNING:tsfresh.feature_selection.relevance:[test_feature_significance] Feature value__symmetry_looking__r_0.65 is constant\n",
      "WARNING:tsfresh.feature_selection.relevance:[test_feature_significance] Feature value__fft_coefficient__coeff_92__attr_\"imag\" is constant\n",
      "WARNING:tsfresh.feature_selection.relevance:[test_feature_significance] Feature value__symmetry_looking__r_0.7000000000000001 is constant\n",
      "WARNING:tsfresh.feature_selection.relevance:[test_feature_significance] Feature value__symmetry_looking__r_0.75 is constant\n",
      "WARNING:tsfresh.feature_selection.relevance:[test_feature_significance] Feature value__fft_coefficient__coeff_92__attr_\"real\" is constant\n",
      "WARNING:tsfresh.feature_selection.relevance:[test_feature_significance] Feature value__symmetry_looking__r_0.8 is constant\n",
      "WARNING:tsfresh.feature_selection.relevance:[test_feature_significance] Feature value__symmetry_looking__r_0.8500000000000001 is constant\n",
      "WARNING:tsfresh.feature_selection.relevance:[test_feature_significance] Feature value__fft_coefficient__coeff_93__attr_\"abs\" is constant\n",
      "WARNING:tsfresh.feature_selection.relevance:[test_feature_significance] Feature value__symmetry_looking__r_0.9 is constant\n",
      "WARNING:tsfresh.feature_selection.relevance:[test_feature_significance] Feature value__symmetry_looking__r_0.9500000000000001 is constant\n",
      "WARNING:tsfresh.feature_selection.relevance:[test_feature_significance] Feature value__fft_coefficient__coeff_93__attr_\"angle\" is constant\n",
      "WARNING:tsfresh.feature_selection.relevance:[test_feature_significance] Feature value__variance_larger_than_standard_deviation is constant\n",
      "WARNING:tsfresh.feature_selection.relevance:[test_feature_significance] Feature value__fft_coefficient__coeff_93__attr_\"imag\" is constant\n",
      "WARNING:tsfresh.feature_selection.relevance:[test_feature_significance] Feature value__fft_coefficient__coeff_93__attr_\"real\" is constant\n",
      "WARNING:tsfresh.feature_selection.relevance:[test_feature_significance] Feature value__fft_coefficient__coeff_94__attr_\"abs\" is constant\n",
      "WARNING:tsfresh.feature_selection.relevance:[test_feature_significance] Feature value__fft_coefficient__coeff_94__attr_\"angle\" is constant\n",
      "WARNING:tsfresh.feature_selection.relevance:[test_feature_significance] Feature value__fft_coefficient__coeff_94__attr_\"imag\" is constant\n",
      "WARNING:tsfresh.feature_selection.relevance:[test_feature_significance] Feature value__fft_coefficient__coeff_94__attr_\"real\" is constant\n",
      "WARNING:tsfresh.feature_selection.relevance:[test_feature_significance] Feature value__fft_coefficient__coeff_95__attr_\"abs\" is constant\n",
      "WARNING:tsfresh.feature_selection.relevance:[test_feature_significance] Feature value__fft_coefficient__coeff_95__attr_\"angle\" is constant\n",
      "WARNING:tsfresh.feature_selection.relevance:[test_feature_significance] Feature value__fft_coefficient__coeff_95__attr_\"imag\" is constant\n",
      "WARNING:tsfresh.feature_selection.relevance:[test_feature_significance] Feature value__fft_coefficient__coeff_95__attr_\"real\" is constant\n",
      "WARNING:tsfresh.feature_selection.relevance:[test_feature_significance] Feature value__fft_coefficient__coeff_96__attr_\"abs\" is constant\n",
      "WARNING:tsfresh.feature_selection.relevance:[test_feature_significance] Feature value__fft_coefficient__coeff_96__attr_\"angle\" is constant\n",
      "WARNING:tsfresh.feature_selection.relevance:[test_feature_significance] Feature value__fft_coefficient__coeff_96__attr_\"imag\" is constant\n",
      "WARNING:tsfresh.feature_selection.relevance:[test_feature_significance] Feature value__fft_coefficient__coeff_96__attr_\"real\" is constant\n",
      "WARNING:tsfresh.feature_selection.relevance:[test_feature_significance] Feature value__fft_coefficient__coeff_97__attr_\"abs\" is constant\n",
      "WARNING:tsfresh.feature_selection.relevance:[test_feature_significance] Feature value__fft_coefficient__coeff_97__attr_\"angle\" is constant\n"
     ]
    },
    {
     "name": "stderr",
     "output_type": "stream",
     "text": [
      "WARNING:tsfresh.feature_selection.relevance:[test_feature_significance] Feature value__fft_coefficient__coeff_97__attr_\"imag\" is constant\n",
      "WARNING:tsfresh.feature_selection.relevance:[test_feature_significance] Feature value__fft_coefficient__coeff_97__attr_\"real\" is constant\n",
      "WARNING:tsfresh.feature_selection.relevance:[test_feature_significance] Feature value__fft_coefficient__coeff_98__attr_\"abs\" is constant\n",
      "WARNING:tsfresh.feature_selection.relevance:[test_feature_significance] Feature value__fft_coefficient__coeff_98__attr_\"angle\" is constant\n",
      "WARNING:tsfresh.feature_selection.relevance:[test_feature_significance] Feature value__fft_coefficient__coeff_98__attr_\"imag\" is constant\n",
      "WARNING:tsfresh.feature_selection.relevance:[test_feature_significance] Feature value__fft_coefficient__coeff_98__attr_\"real\" is constant\n",
      "WARNING:tsfresh.feature_selection.relevance:[test_feature_significance] Feature value__fft_coefficient__coeff_99__attr_\"abs\" is constant\n",
      "WARNING:tsfresh.feature_selection.relevance:[test_feature_significance] Feature value__fft_coefficient__coeff_99__attr_\"angle\" is constant\n",
      "WARNING:tsfresh.feature_selection.relevance:[test_feature_significance] Feature value__fft_coefficient__coeff_99__attr_\"imag\" is constant\n",
      "WARNING:tsfresh.feature_selection.relevance:[test_feature_significance] Feature value__fft_coefficient__coeff_99__attr_\"real\" is constant\n",
      "WARNING:tsfresh.feature_selection.relevance:[test_feature_significance] Feature value__large_standard_deviation__r_0.05 is constant\n",
      "WARNING:tsfresh.feature_selection.relevance:[test_feature_significance] Feature value__large_standard_deviation__r_0.5 is constant\n",
      "WARNING:tsfresh.feature_selection.relevance:[test_feature_significance] Feature value__large_standard_deviation__r_0.55 is constant\n",
      "WARNING:tsfresh.feature_selection.relevance:[test_feature_significance] Feature value__large_standard_deviation__r_0.6000000000000001 is constant\n",
      "WARNING:tsfresh.feature_selection.relevance:[test_feature_significance] Feature value__large_standard_deviation__r_0.65 is constant\n",
      "WARNING:tsfresh.feature_selection.relevance:[test_feature_significance] Feature value__large_standard_deviation__r_0.7000000000000001 is constant\n",
      "WARNING:tsfresh.feature_selection.relevance:[test_feature_significance] Feature value__large_standard_deviation__r_0.75 is constant\n",
      "WARNING:tsfresh.feature_selection.relevance:[test_feature_significance] Feature value__large_standard_deviation__r_0.8 is constant\n",
      "WARNING:tsfresh.feature_selection.relevance:[test_feature_significance] Feature value__large_standard_deviation__r_0.8500000000000001 is constant\n",
      "WARNING:tsfresh.feature_selection.relevance:[test_feature_significance] Feature value__large_standard_deviation__r_0.9 is constant\n",
      "WARNING:tsfresh.feature_selection.relevance:[test_feature_significance] Feature value__large_standard_deviation__r_0.9500000000000001 is constant\n",
      "WARNING:tsfresh.feature_selection.relevance:[test_feature_significance] Feature value__length is constant\n",
      "WARNING:tsfresh.feature_selection.significance_tests:[target_binary_feature_binary_test] A binary feature should have only values 1 and 0 (incl. True and False). Instead found {0.0, 180.0} in feature ''value__fft_coefficient__coeff_0__attr_\"angle\"''.\n",
      "WARNING:tsfresh.feature_selection.significance_tests:[target_binary_feature_binary_test] A binary feature should have only values 1 and 0 (incl. True and False). Instead found {0.0, 180.0} in feature ''value__fft_coefficient__coeff_76__attr_\"angle\"''.\n",
      "WARNING:tsfresh.feature_selection.significance_tests:[target_binary_feature_binary_test] A binary feature should have only values 1 and 0 (incl. True and False). Instead found {0.0, 0.006578947368421052} in feature ''value__ratio_beyond_r_sigma__r_10''.\n",
      "WARNING:tsfresh.feature_selection.significance_tests:[target_binary_feature_binary_test] A binary feature should have only values 1 and 0 (incl. True and False). Instead found {0.0, 0.006578947368421052} in feature ''value__ratio_beyond_r_sigma__r_6''.\n",
      "WARNING:tsfresh.feature_selection.significance_tests:[target_binary_feature_binary_test] A binary feature should have only values 1 and 0 (incl. True and False). Instead found {0.0, 0.006578947368421052} in feature ''value__ratio_beyond_r_sigma__r_7''.\n",
      "WARNING:tsfresh.feature_selection.significance_tests:[target_binary_feature_binary_test] A binary feature should have only values 1 and 0 (incl. True and False). Instead found {0.0, 2.0} in feature ''value__value_count__value_-1''.\n",
      "WARNING:tsfresh.feature_selection.significance_tests:[target_binary_feature_binary_test] A binary feature should have only values 1 and 0 (incl. True and False). Instead found {0.0, 2.0} in feature ''value__value_count__value_1''.\n",
      "WARNING:tsfresh.feature_selection.significance_tests:[target_binary_feature_binary_test] A binary feature should have only values 1 and 0 (incl. True and False). Instead found {0.0, 180.0} in feature ''value__fft_coefficient__coeff_0__attr_\"angle\"''.\n",
      "WARNING:tsfresh.feature_selection.significance_tests:[target_binary_feature_binary_test] A binary feature should have only values 1 and 0 (incl. True and False). Instead found {0.0, 180.0} in feature ''value__fft_coefficient__coeff_76__attr_\"angle\"''.\n",
      "WARNING:tsfresh.feature_selection.significance_tests:[target_binary_feature_binary_test] A binary feature should have only values 1 and 0 (incl. True and False). Instead found {0.0, 0.006578947368421052} in feature ''value__ratio_beyond_r_sigma__r_10''.\n",
      "WARNING:tsfresh.feature_selection.significance_tests:[target_binary_feature_binary_test] A binary feature should have only values 1 and 0 (incl. True and False). Instead found {0.0, 0.006578947368421052} in feature ''value__ratio_beyond_r_sigma__r_6''.\n",
      "WARNING:tsfresh.feature_selection.significance_tests:[target_binary_feature_binary_test] A binary feature should have only values 1 and 0 (incl. True and False). Instead found {0.0, 0.006578947368421052} in feature ''value__ratio_beyond_r_sigma__r_7''.\n",
      "WARNING:tsfresh.feature_selection.significance_tests:[target_binary_feature_binary_test] A binary feature should have only values 1 and 0 (incl. True and False). Instead found {0.0, 2.0} in feature ''value__value_count__value_-1''.\n",
      "WARNING:tsfresh.feature_selection.significance_tests:[target_binary_feature_binary_test] A binary feature should have only values 1 and 0 (incl. True and False). Instead found {0.0, 2.0} in feature ''value__value_count__value_1''.\n"
     ]
    }
   ],
   "source": [
    "from tsfresh import extract_features\n",
    "\n",
    "max_num=300\n",
    "\n",
    "from tsfresh import extract_relevant_features\n",
    "\n",
    "features_filtered_direct = extract_relevant_features(d[d[\"id\"] < max_num], y.iloc[0:max_num],\n",
    "                                                     column_id='id', column_sort='time', n_jobs=4)\n",
    "#extracted_features = extract_features(, column_id=\"id\", \n",
    " #                                                           column_sort=\"time\", disable_progressbar=False, n_jobs=3)"
   ]
  },
  {
   "cell_type": "code",
   "execution_count": 45,
   "metadata": {},
   "outputs": [
    {
     "data": {
      "text/plain": [
       "<seaborn.axisgrid.PairGrid at 0x1c29fefcc0>"
      ]
     },
     "execution_count": 45,
     "metadata": {},
     "output_type": "execute_result"
    },
    {
     "data": {
      "image/png": "[encoded data removed]",
      "text/plain": [
       "<Figure size 946x900 with 30 Axes>"
      ]
     },
     "metadata": {},
     "output_type": "display_data"
    }
   ],
   "source": [
    "feats = features_filtered_direct[features_filtered_direct.columns[0:4]].rename(lambda x: x[0:14], axis='columns')\n",
    "feats[\"target\"] = y.iloc[0:max_num]\n",
    "sns.pairplot(feats, hue=\"target\")"
   ]
  },
  {
   "cell_type": "markdown",
   "metadata": {},
   "source": []
  },
  {
   "cell_type": "code",
   "execution_count": 51,
   "metadata": {},
   "outputs": [
    {
     "name": "stderr",
     "output_type": "stream",
     "text": [
      "Downloading 20news dataset. This may take a few minutes.\n",
      "INFO:sklearn.datasets.twenty_newsgroups:Downloading 20news dataset. This may take a few minutes.\n",
      "Downloading dataset from https://ndownloader.figshare.com/files/5975967 (14 MB)\n",
      "INFO:sklearn.datasets.twenty_newsgroups:Downloading dataset from https://ndownloader.figshare.com/files/5975967 (14 MB)\n"
     ]
    }
   ],
   "source": [
    "from sklearn.datasets import fetch_20newsgroups\n",
    "news_train = fetch_20newsgroups(subset='train', categories=['sci.space','rec.autos'], data_home='datatmp/')"
   ]
  },
  {
   "cell_type": "code",
   "execution_count": 55,
   "metadata": {},
   "outputs": [
    {
     "data": {
      "text/plain": [
       "['rec.autos', 'sci.space']"
      ]
     },
     "execution_count": 55,
     "metadata": {},
     "output_type": "execute_result"
    }
   ],
   "source": [
    "news_train.target_names"
   ]
  },
  {
   "cell_type": "code",
   "execution_count": null,
   "metadata": {},
   "outputs": [],
   "source": []
  }
 ],
 "metadata": {
  "kernelspec": {
   "display_name": "Python 3",
   "language": "python",
   "name": "python3"
  },
  "language_info": {
   "codemirror_mode": {
    "name": "ipython",
    "version": 3
   },
   "file_extension": ".py",
   "mimetype": "text/x-python",
   "name": "python",
   "nbconvert_exporter": "python",
   "pygments_lexer": "ipython3",
   "version": "3.6.8"
  }
 },
 "nbformat": 4,
 "nbformat_minor": 2
}

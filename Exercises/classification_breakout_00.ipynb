{
 "cells": [
  {
   "cell_type": "markdown",
   "metadata": {},
   "source": [
    "## Classification - Breakout\n",
    "\n",
    "**ML Course (Columbia, J. Bloom, 2019)**"
   ]
  },
  {
   "cell_type": "markdown",
   "metadata": {},
   "source": [
    "Classify the famous Iris data, first used by R.A Fisher. \n",
    "To load in the data and split into training / testing sets:\n",
    "\n",
    "1. Choose your favorite classification model.  \n",
    "2. Find the parameters that minimize the 3-fold cross-validation misclassification rate over the training set.  \n",
    "3. Apply this optimized model to predict the class of each object in the held-out set.  \n",
    "\n",
    "a) What is your best 3-fold CV 0-1 score?\n",
    "\n",
    "b) What is your 0-1 score when applying it to testing set? "
   ]
  },
  {
   "cell_type": "code",
   "execution_count": null,
   "metadata": {},
   "outputs": [],
   "source": []
  }
 ],
 "metadata": {
  "kernelspec": {
   "display_name": "Python 3",
   "language": "python",
   "name": "python3"
  },
  "language_info": {
   "codemirror_mode": {
    "name": "ipython",
    "version": 3
   },
   "file_extension": ".py",
   "mimetype": "text/x-python",
   "name": "python",
   "nbconvert_exporter": "python",
   "pygments_lexer": "ipython3",
   "version": "3.6.8"
  }
 },
 "nbformat": 4,
 "nbformat_minor": 2
}

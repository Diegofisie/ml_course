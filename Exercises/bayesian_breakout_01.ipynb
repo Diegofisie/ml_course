{
 "cells": [
  {
   "cell_type": "markdown",
   "metadata": {},
   "source": [
    "# Linear Regression with MCMC - breakout\n",
    "\n",
    "**ML Course (Columbia, J. Bloom, 2019)**"
   ]
  },
  {
   "cell_type": "markdown",
   "metadata": {},
   "source": [
    "The was a noticeable decline in the crude birth rate (CBR) between 1965 and 1975 in 20 countries in Central and South America. This was studied in P.W. Mauldin and B. Berelson (1978). Conditions of fertility decline in developing countries, 1965-75. Studies in Family Planning (9):89-147. JSTOR: http://www.jstor.org/stable/1965523. The output is the change of CBR by country and observations on an index of social setting and an index of family planning effort."
   ]
  },
  {
   "cell_type": "code",
   "execution_count": null,
   "metadata": {},
   "outputs": [],
   "source": [
    "%matplotlib inline\n",
    "import matplotlib.pyplot as plt\n",
    "import pandas as pd\n",
    "D = pd.read_csv('data_BirthRate.txt')\n",
    "print(D)"
   ]
  },
  {
   "cell_type": "code",
   "execution_count": null,
   "metadata": {},
   "outputs": [],
   "source": [
    "# have a look at some of the data\n",
    "plt.plot(D['social'], D['change'],'ko')\n",
    "plt.xlabel('Social Index')\n",
    "plt.ylabel('% decline in birth rate')"
   ]
  },
  {
   "cell_type": "markdown",
   "metadata": {},
   "source": [
    "### 1. Write out the Bayesian model\n",
    "\n",
    "This will be a linear model relating $x_1$ = \"social\" index and $x_2$ = \"famPlan\" index to the output variable (decline in CBR). Your model should account for some inherent noise ($\\sigma$).\n",
    "\n",
    "<u>Likelihood</u>: \n",
    "\n",
    "$p(y | b_0, b_1, b_2, \\sigma$), X ~ Normal($b_0 + b_1 x_1 + b_2 x_2$, $\\sigma^2$)\n",
    "\n",
    "<u>Priors:</u>\n",
    "\n",
    "$b_0$ ~ Normal(0, 10)\n",
    "\n",
    "$b_1$ ~ Normal(0, 10)\n",
    "\n",
    "$b_2$ ~ Normal(0, 10)\n",
    "\n",
    "$\\sigma$ ~ Uniform(0, 200)"
   ]
  },
  {
   "cell_type": "code",
   "execution_count": null,
   "metadata": {},
   "outputs": [],
   "source": [
    "# gather X and y variables\n",
    "X = \n",
    "y = "
   ]
  },
  {
   "cell_type": "code",
   "execution_count": null,
   "metadata": {},
   "outputs": [],
   "source": [
    "import pymc3 as pm\n",
    "import numpy as np\n",
    "import pandas as pd\n",
    "\n",
    "# load in data\n",
    "D = pd.read_csv('data_BirthRate.txt')\n",
    "X = D.iloc[:,1:3]\n",
    "cbr_change = D['change']\n",
    "\n",
    "with pm.Model() as model:\n",
    "    #priors\n",
    "    b0 = \n",
    "    b1 = \n",
    "    b2 = \n",
    "    sigma = \n",
    "    \n",
    "    modelled_y = ## some function of b0, b1, b2, sigma\n",
    " \n",
    "    #likelihood\n",
    "    y = pm.Normal('y', mu=, tau=, observed=)"
   ]
  },
  {
   "cell_type": "code",
   "execution_count": null,
   "metadata": {},
   "outputs": [],
   "source": [
    "with model:\n",
    "    step = pm.NUTS()\n",
    "    trace = pm.sample(, step=, njobs=1)"
   ]
  },
  {
   "cell_type": "code",
   "execution_count": null,
   "metadata": {},
   "outputs": [],
   "source": [
    "## here, do a burnin and thin the trace"
   ]
  },
  {
   "cell_type": "markdown",
   "metadata": {},
   "source": [
    "### 2. Plot MCMC traces of each of the 4 parameters to ensure that your chain has converged\n"
   ]
  },
  {
   "cell_type": "code",
   "execution_count": null,
   "metadata": {},
   "outputs": [],
   "source": []
  },
  {
   "cell_type": "markdown",
   "metadata": {},
   "source": [
    "### 3. Find the 95% central posteriors"
   ]
  },
  {
   "cell_type": "code",
   "execution_count": null,
   "metadata": {},
   "outputs": [],
   "source": []
  },
  {
   "cell_type": "markdown",
   "metadata": {},
   "source": [
    "### 3. For a new country with social = 90 and famplan = 10,  draw a sample from the posterior predictive distribution of change"
   ]
  },
  {
   "cell_type": "code",
   "execution_count": null,
   "metadata": {},
   "outputs": [],
   "source": [
    "x_new = [90, 5]\n",
    "\n",
    "def draw_y\n",
    "    \"\"\" \n",
    "    for a single posterior sample (b0,b1,b2,sigma), \n",
    "    draw a posterior prediction of y_new for input x_new\n",
    "    \"\"\"\n",
    "    return \n",
    "\n",
    "# draw a single sample\n",
    "draw_y(x_new, ...)"
   ]
  }
 ],
 "metadata": {
  "kernelspec": {
   "display_name": "Python 3",
   "language": "python",
   "name": "python3"
  },
  "language_info": {
   "codemirror_mode": {
    "name": "ipython",
    "version": 3
   },
   "file_extension": ".py",
   "mimetype": "text/x-python",
   "name": "python",
   "nbconvert_exporter": "python",
   "pygments_lexer": "ipython3",
   "version": "3.6.8"
  }
 },
 "nbformat": 4,
 "nbformat_minor": 1
}
